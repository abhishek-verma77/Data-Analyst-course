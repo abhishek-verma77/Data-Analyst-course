{
 "cells": [
  {
   "cell_type": "markdown",
   "id": "b135d0c8",
   "metadata": {},
   "source": [
    "# Module 3: Data Structures Assignments\n",
    "## Lesson 3.3: Sets\n",
    "### Assignment 1: Creating and Accessing Sets\n",
    "\n",
    "Create a set with the first 10 positive integers. Print the set.\n",
    "\n",
    "### Assignment 2: Adding and Removing Elements\n",
    "\n",
    "Add the number 11 to the set created in Assignment 1. Then remove the number 1 from the set. Print the modified set.\n",
    "\n",
    "### Assignment 3: Set Operations\n",
    "\n",
    "Create two sets: one with the first 5 positive integers and another with the first 5 even integers. Perform and print the results of union, intersection, difference, and symmetric difference operations on these sets.\n",
    "\n",
    "### Assignment 4: Set Comprehensions\n",
    "\n",
    "Create a new set containing the squares of the first 10 positive integers using a set comprehension. Print the new set.\n",
    "\n",
    "### Assignment 5: Filtering Sets\n",
    "\n",
    "Create a new set containing only the even numbers from the set created in Assignment 1 using a set comprehension. Print the new set.\n",
    "\n",
    "### Assignment 6: Set Methods\n",
    "\n",
    "Create a set with duplicate elements and remove the duplicates using set methods. Print the modified set.\n",
    "\n",
    "### Assignment 7: Subsets and Supersets\n",
    "\n",
    "Create two sets: one with the first 5 positive integers and another with the first 3 positive integers. Check if the second set is a subset of the first set and if the first set is a superset of the second set. Print the results.\n",
    "\n",
    "### Assignment 8: Frozenset\n",
    "\n",
    "Create a frozenset with the first 5 positive integers. Print the frozenset.\n",
    "\n",
    "### Assignment 9: Set and List Conversion\n",
    "\n",
    "Create a set with the first 5 positive integers. Convert it to a list, append the number 6, and convert it back to a set. Print the resulting set.\n",
    "\n",
    "### Assignment 10: Set and Dictionary\n",
    "\n",
    "Create a dictionary with set keys and integer values. Print the dictionary.\n",
    "\n",
    "### Assignment 11: Iterating Over Sets\n",
    "\n",
    "Create a set and iterate over the elements, printing each element.\n",
    "\n",
    "### Assignment 12: Removing Elements from Sets\n",
    "\n",
    "Create a set and remove elements from it until it is empty. Print the set after each removal.\n",
    "\n",
    "### Assignment 13: Set Symmetric Difference Update\n",
    "\n",
    "Create two sets and update the first set with the symmetric difference of the two sets. Print the modified first set.\n",
    "\n",
    "### Assignment 14: Set Membership Testing\n",
    "\n",
    "Create a set and test if certain elements are present in the set. Print the results.\n",
    "\n",
    "### Assignment 15: Set of Tuples\n",
    "\n",
    "Create a set containing tuples, where each tuple contains two elements. Print the set."
   ]
  },
  {
   "cell_type": "code",
   "execution_count": 4,
   "id": "49881767",
   "metadata": {},
   "outputs": [
    {
     "name": "stdout",
     "output_type": "stream",
     "text": [
      "{1, 2, 3, 4, 5, 6, 7, 8, 9, 10}\n"
     ]
    }
   ],
   "source": [
    "# Ans 1\n",
    "set = {1,2,3,4,5,6,7,8,9,10}\n",
    "print(set)"
   ]
  },
  {
   "cell_type": "code",
   "execution_count": null,
   "id": "9d5cbca1",
   "metadata": {},
   "outputs": [
    {
     "name": "stdout",
     "output_type": "stream",
     "text": [
      "set with added element: {1, 2, 3, 4, 5, 6, 7, 8, 9, 10, 11}\n",
      "set with removed element:  {2, 3, 4, 5, 6, 7, 8, 9, 10, 11}\n"
     ]
    }
   ],
   "source": [
    "# Ans 2\n",
    "set.add(11)\n",
    "print(\"set with added element:\",set)\n",
    "set.pop()\n",
    "print(\"set with removed element: \",set)"
   ]
  },
  {
   "cell_type": "code",
   "execution_count": 7,
   "id": "f091623a",
   "metadata": {},
   "outputs": [
    {
     "name": "stdout",
     "output_type": "stream",
     "text": [
      "union of two sets: {1, 2, 3, 4, 5, 6, 8, 10}\n",
      "intersection of two sets: {2, 4}\n",
      "difference of two sets: {1, 3, 5}\n",
      "symmetric difference of two sets: {1, 3, 5, 6, 8, 10}\n"
     ]
    }
   ],
   "source": [
    "# Ans 3\n",
    "pos_set = {1,2,3,4,5}\n",
    "even_set = {2,4,6,8,10}\n",
    "print(\"union of two sets:\", pos_set.union(even_set))\n",
    "print(\"intersection of two sets:\", pos_set.intersection(even_set))\n",
    "print(\"difference of two sets:\", pos_set.difference(even_set))\n",
    "print(\"symmetric difference of two sets:\", pos_set.symmetric_difference(even_set))"
   ]
  },
  {
   "cell_type": "code",
   "execution_count": 10,
   "id": "ed5972c2",
   "metadata": {},
   "outputs": [
    {
     "name": "stdout",
     "output_type": "stream",
     "text": [
      "set creation using set comprehension: {64, 1, 4, 36, 100, 9, 16, 49, 81, 25}\n"
     ]
    }
   ],
   "source": [
    "# Ans 4\n",
    "natural = {i**2 for i in range(1,11)}\n",
    "print(\"set creation using set comprehension:\", natural)"
   ]
  },
  {
   "cell_type": "code",
   "execution_count": null,
   "id": "c35a5e41",
   "metadata": {},
   "outputs": [
    {
     "name": "stdout",
     "output_type": "stream",
     "text": [
      "set with even squares: {2, 4, 6, 8, 10}\n"
     ]
    }
   ],
   "source": [
    "# Ans 5\n",
    "even = {i for i in set if i % 2 == 0}\n",
    "print(\"set with even squares:\", even)"
   ]
  },
  {
   "cell_type": "code",
   "execution_count": 14,
   "id": "d325b55c",
   "metadata": {},
   "outputs": [
    {
     "name": "stdout",
     "output_type": "stream",
     "text": [
      "set with unique elements: {1, 2, 3, 4, 6, 10, 63}\n"
     ]
    }
   ],
   "source": [
    "# Ans 6\n",
    "set2 = {1,2,3,63,3,2,6,4,4,10}\n",
    "print(\"set with unique elements:\", set2)"
   ]
  },
  {
   "cell_type": "code",
   "execution_count": 17,
   "id": "e3dae1df",
   "metadata": {},
   "outputs": [
    {
     "name": "stdout",
     "output_type": "stream",
     "text": [
      "checking if set4 is a subset of set3:  True\n",
      "checking if set3 is a superset of set4: True\n"
     ]
    }
   ],
   "source": [
    "# Ans 7\n",
    "set3 = {1,2,3,4,5}\n",
    "set4 = {1,2,3}\n",
    "print(\"checking if set4 is a subset of set3: \",set4.issubset(set3))\n",
    "print(\"checking if set3 is a superset of set4:\", set3.issuperset(set4))"
   ]
  },
  {
   "cell_type": "code",
   "execution_count": 32,
   "id": "c2165246",
   "metadata": {},
   "outputs": [
    {
     "name": "stdout",
     "output_type": "stream",
     "text": [
      "frozen set: frozenset({1, 2, 3, 4, 5})\n"
     ]
    }
   ],
   "source": [
    "# Ans 8\n",
    "frozen_set = frozenset([1,2,3,4,5])\n",
    "print(\"frozen set:\", frozen_set)"
   ]
  },
  {
   "cell_type": "code",
   "execution_count": 38,
   "id": "95cad648",
   "metadata": {},
   "outputs": [
    {
     "name": "stdout",
     "output_type": "stream",
     "text": [
      "original set: {1, 2, 3, 4, 5}\n",
      "set created from list: {1, 2, 3, 4, 5, 6}\n"
     ]
    }
   ],
   "source": [
    "# Ans 9\n",
    "my_set = set(range(1,6))\n",
    "print(\"original set:\", my_set)\n",
    "lst = list(my_set)\n",
    "lst.append(6)\n",
    "my_set = set(lst)\n",
    "print(\"set created from list:\", my_set)\n"
   ]
  },
  {
   "cell_type": "code",
   "execution_count": 40,
   "id": "d49f56ef",
   "metadata": {},
   "outputs": [
    {
     "name": "stdout",
     "output_type": "stream",
     "text": [
      "Dictionary with frozenset keys: {frozenset({1, 2, 3}): 10, frozenset({4, 5, 6}): 20}\n"
     ]
    }
   ],
   "source": [
    "# Ans 10\n",
    "s1 = frozenset([1,2,3])\n",
    "s2 = frozenset([4,5,6])\n",
    "\n",
    "d = {\n",
    "    s1: 10,\n",
    "    s2: 20\n",
    "}\n",
    "\n",
    "print(\"Dictionary with frozenset keys:\", d)\n"
   ]
  },
  {
   "cell_type": "code",
   "execution_count": null,
   "id": "8b13fb35",
   "metadata": {},
   "outputs": [
    {
     "name": "stdout",
     "output_type": "stream",
     "text": [
      "1\n",
      "2\n",
      "3\n",
      "4\n",
      "5\n",
      "<class 'set'>\n"
     ]
    }
   ],
   "source": [
    "# Ans 11\n",
    "new_set = {1, 2, 3, 4, 5}\n",
    "for i in new_set:\n",
    "    print(i)"
   ]
  },
  {
   "cell_type": "code",
   "execution_count": 50,
   "id": "9b21e2c5",
   "metadata": {},
   "outputs": [
    {
     "name": "stdout",
     "output_type": "stream",
     "text": [
      "set after popping an element: {2, 3, 4, 5}\n",
      "set after popping an element: {3, 4, 5}\n",
      "set after popping an element: {4, 5}\n",
      "set after popping an element: {5}\n",
      "set after popping an element: set()\n"
     ]
    }
   ],
   "source": [
    "# Ans 12\n",
    "new_set = {1, 2, 3, 4, 5}\n",
    "while new_set:\n",
    "    new_set.pop()\n",
    "    print(\"set after popping an element:\", new_set)"
   ]
  },
  {
   "cell_type": "code",
   "execution_count": 51,
   "id": "7515e7d7",
   "metadata": {},
   "outputs": [
    {
     "name": "stdout",
     "output_type": "stream",
     "text": [
      "{1, 2, 4, 5}\n"
     ]
    }
   ],
   "source": [
    "# Ans 13\n",
    "new_set1 = {1, 2, 3}\n",
    "new_set2 = {3, 4, 5}\n",
    "new_set1.symmetric_difference_update(new_set2)\n",
    "print(new_set1)"
   ]
  },
  {
   "cell_type": "code",
   "execution_count": 52,
   "id": "4f03a512",
   "metadata": {},
   "outputs": [
    {
     "name": "stdout",
     "output_type": "stream",
     "text": [
      "membership checkfor 2 in new_set1: True\n"
     ]
    }
   ],
   "source": [
    "# Ans 14\n",
    "new_set1 = {1, 2, 3}\n",
    "print(\"membership checkfor 2 in new_set1:\", 2 in new_set1)"
   ]
  },
  {
   "cell_type": "code",
   "execution_count": 53,
   "id": "30b0102a",
   "metadata": {},
   "outputs": [
    {
     "name": "stdout",
     "output_type": "stream",
     "text": [
      "set with tuples as elements: {(1, 2), (3, 4), (5, 6)}\n"
     ]
    }
   ],
   "source": [
    "# Ans 15\n",
    "tuple_set = {(1, 2), (3, 4), (5, 6)}\n",
    "print(\"set with tuples as elements:\", tuple_set)"
   ]
  }
 ],
 "metadata": {
  "kernelspec": {
   "display_name": "base",
   "language": "python",
   "name": "python3"
  },
  "language_info": {
   "codemirror_mode": {
    "name": "ipython",
    "version": 3
   },
   "file_extension": ".py",
   "mimetype": "text/x-python",
   "name": "python",
   "nbconvert_exporter": "python",
   "pygments_lexer": "ipython3",
   "version": "3.12.7"
  }
 },
 "nbformat": 4,
 "nbformat_minor": 5
}
