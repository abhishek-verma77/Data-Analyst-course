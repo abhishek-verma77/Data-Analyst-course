{
  "cells": [
    {
      "cell_type": "markdown",
      "metadata": {
        "id": "E8ZjZox3_KbS"
      },
      "source": [
        "# Lesson 1.2: Python Basics\n",
        "## Topics Covered:\n",
        "- Syntax and Semantics\n",
        "- Variables and Data Types\n",
        "- Basic Operators (Arithmetic, Comparison, Logical)\n"
      ]
    },
    {
      "cell_type": "markdown",
      "metadata": {
        "id": "-5NXz_YY_KbT"
      },
      "source": [
        "## 1. Syntax and Semantics\n",
        "\n",
        "**Question 1:** Write a Python program to print \"Hello, World!\"."
      ]
    },
    {
      "cell_type": "code",
      "metadata": {
        "colab": {
          "base_uri": "https://localhost:8080/"
        },
        "id": "Io6qSG82_KbT",
        "outputId": "a7d8a35c-1dac-4eb3-ff01-1a6b78a0bf78"
      },
      "outputs": [
        {
          "output_type": "stream",
          "name": "stdout",
          "text": [
            "Hello, World!.\n"
          ]
        }
      ],
      "source": [
        "# Ans 1\n",
        "print(\"Hello, World!.\")"
      ],
      "execution_count": 1
    },
    {
      "cell_type": "markdown",
      "metadata": {
        "id": "-b2Vzftl_KbU"
      },
      "source": [
        "**Question 2:** Write a Python program that takes a user input and prints it."
      ]
    },
    {
      "cell_type": "code",
      "metadata": {
        "colab": {
          "base_uri": "https://localhost:8080/"
        },
        "id": "L3ajS4eC_KbU",
        "outputId": "cb3ea9a0-7afb-4601-f927-a25eaa4e468e"
      },
      "outputs": [
        {
          "output_type": "stream",
          "name": "stdout",
          "text": [
            "enter your name! abhishek\n",
            "abhishek\n"
          ]
        }
      ],
      "source": [
        "# Ans 2\n",
        "inp=input(\"enter your name! \")\n",
        "print(inp)"
      ],
      "execution_count": 2
    },
    {
      "cell_type": "markdown",
      "metadata": {
        "id": "Vxgk4dXX_KbU"
      },
      "source": [
        "**Question 3:** Write a Python program to check if a number is positive, negative, or zero."
      ]
    },
    {
      "cell_type": "code",
      "metadata": {
        "colab": {
          "base_uri": "https://localhost:8080/"
        },
        "id": "5hxK0jbt_KbU",
        "outputId": "6fee30ee-8313-4a0f-b6d7-e370d51979ee"
      },
      "outputs": [
        {
          "output_type": "stream",
          "name": "stdout",
          "text": [
            "enter a number: 0\n",
            "number is zero\n"
          ]
        }
      ],
      "source": [
        "# Ans 3\n",
        "num=int(input(\"enter a number: \"))\n",
        "if num == 0:\n",
        "  print(\"number is zero\")\n",
        "elif num > 0:\n",
        "  print(\"number is positive\")\n",
        "else:\n",
        "  print(\"number is negative\")"
      ],
      "execution_count": 3
    },
    {
      "cell_type": "markdown",
      "metadata": {
        "id": "LDQb0E9F_KbU"
      },
      "source": [
        "**Question 4:** Write a Python program to find the largest of three numbers."
      ]
    },
    {
      "cell_type": "code",
      "metadata": {
        "colab": {
          "base_uri": "https://localhost:8080/"
        },
        "id": "gGHN1DTR_KbU",
        "outputId": "b32149e4-f9d7-4830-bd4e-7b3e3730d9b7"
      },
      "outputs": [
        {
          "output_type": "stream",
          "name": "stdout",
          "text": [
            "enter first number: 0\n",
            "enter second number: 1\n",
            "enter third number: 2\n",
            "The largest number is 2\n"
          ]
        }
      ],
      "source": [
        "# Ans 4\n",
        "num1 = int(input(\"enter first number: \"))\n",
        "num2 = int(input(\"enter second number: \"))\n",
        "num3 = int(input(\"enter third number: \"))\n",
        "if num1 == num2 or num2 == num3 or num1 == num3:\n",
        "  print(\"enter distinct number\")\n",
        "if (num1 > num2) and (num1 > num3):\n",
        "    largest = num1\n",
        "elif (num2 > num1) and (num2 > num3):\n",
        "    largest = num2\n",
        "else:\n",
        "    largest = num3\n",
        "print(f\"The largest number is {largest}\")"
      ],
      "execution_count": 23
    },
    {
      "cell_type": "markdown",
      "metadata": {
        "id": "2ozoK7DL_KbV"
      },
      "source": [
        "**Question 5:** Write a Python program to calculate the factorial of a number."
      ]
    },
    {
      "cell_type": "code",
      "metadata": {
        "colab": {
          "base_uri": "https://localhost:8080/"
        },
        "id": "j0y0MIYG_KbV",
        "outputId": "8c67d2fc-d5a8-472b-dfed-7d2162988828"
      },
      "outputs": [
        {
          "output_type": "stream",
          "name": "stdout",
          "text": [
            "enter a number: 5\n",
            "120\n"
          ]
        }
      ],
      "source": [
        "# Ans 5\n",
        "num=int(input(\"enter a number: \"))\n",
        "fact=1\n",
        "while num > 1:\n",
        "    fact=fact*num\n",
        "    num=num-1\n",
        "print(fact)"
      ],
      "execution_count": 4
    },
    {
      "cell_type": "markdown",
      "metadata": {
        "id": "Fqi4gKNo_KbV"
      },
      "source": [
        "## 2. Variables and Data Types\n",
        "\n",
        "**Question 6:** Create variables of different data types: integer, float, string, and boolean. Print their values and types."
      ]
    },
    {
      "cell_type": "code",
      "metadata": {
        "colab": {
          "base_uri": "https://localhost:8080/"
        },
        "id": "mCdE5Kdo_KbV",
        "outputId": "1bc0e218-3bb8-461e-8c4c-cd763e82e848"
      },
      "outputs": [
        {
          "output_type": "stream",
          "name": "stdout",
          "text": [
            "Integer value: 18, type: <class 'int'>\n",
            "Float value: 5.8, type: <class 'float'>\n",
            "String value: abhishek, type: <class 'str'>\n",
            "Boolean value: True, type: <class 'bool'>\n"
          ]
        }
      ],
      "source": [
        "# Ans 6\n",
        "integer = 18\n",
        "float_var = 5.8\n",
        "string = \"abhishek\"\n",
        "boolean = True\n",
        "\n",
        "print(f\"Integer value: {integer}, type: {type(integer)}\")\n",
        "print(f\"Float value: {float_var}, type: {type(float_var)}\")\n",
        "print(f\"String value: {string}, type: {type(string)}\")\n",
        "print(f\"Boolean value: {boolean}, type: {type(boolean)}\")"
      ],
      "execution_count": 6
    },
    {
      "cell_type": "markdown",
      "metadata": {
        "id": "X2M1TenI_KbV"
      },
      "source": [
        "**Question 7:** Write a Python program to swap the values of two variables."
      ]
    },
    {
      "cell_type": "code",
      "metadata": {
        "colab": {
          "base_uri": "https://localhost:8080/"
        },
        "id": "u1UHGT4q_KbV",
        "outputId": "23382705-bea7-4b5d-c643-f9cf749a01d1"
      },
      "outputs": [
        {
          "output_type": "stream",
          "name": "stdout",
          "text": [
            "enter a number: 5\n",
            "input another number: 9\n",
            "before swap: num1 = 5, num2 = 9\n",
            "after swap: num1 = 9, num2 = 5\n"
          ]
        }
      ],
      "source": [
        "# Ans 7\n",
        "num1=int(input(\"enter a number: \"))\n",
        "num2=int(input(\"input another number: \"))\n",
        "print(f\"before swap: num1 = {num1}, num2 = {num2}\")\n",
        "num1,num2 = num2,num1\n",
        "print(f\"after swap: num1 = {num1}, num2 = {num2}\")"
      ],
      "execution_count": 9
    },
    {
      "cell_type": "markdown",
      "metadata": {
        "id": "shIRhlPn_KbV"
      },
      "source": [
        "**Question 8:** Write a Python program to convert Celsius to Fahrenheit."
      ]
    },
    {
      "cell_type": "code",
      "metadata": {
        "colab": {
          "base_uri": "https://localhost:8080/"
        },
        "id": "9Ls8vRE9_KbV",
        "outputId": "d9482d39-9ed4-442c-83f1-15bcb87de324"
      },
      "outputs": [
        {
          "output_type": "stream",
          "name": "stdout",
          "text": [
            "enter temp in celcius: -40\n",
            "temp in farenheit is:  -40.0\n"
          ]
        }
      ],
      "source": [
        "# Ans 8\n",
        "celcius=int(input(\"enter temp in celcius: \"))\n",
        "far = ((9 * celcius)/5) + 32\n",
        "print(\"temp in farenheit is: \",far)"
      ],
      "execution_count": 11
    },
    {
      "cell_type": "markdown",
      "metadata": {
        "id": "SE3aJg3Q_KbV"
      },
      "source": [
        "**Question 9:** Write a Python program to concatenate two strings."
      ]
    },
    {
      "cell_type": "code",
      "metadata": {
        "colab": {
          "base_uri": "https://localhost:8080/"
        },
        "id": "YGHOxqJS_KbV",
        "outputId": "124334df-04dd-4571-ef45-971046aab80f"
      },
      "outputs": [
        {
          "output_type": "stream",
          "name": "stdout",
          "text": [
            "helloworld\n"
          ]
        }
      ],
      "source": [
        "# Ans 9\n",
        "str1 = \"hello\"\n",
        "str2 = \"world\"\n",
        "print(str1+str2)"
      ],
      "execution_count": 12
    },
    {
      "cell_type": "markdown",
      "metadata": {
        "id": "VyCHF3ys_KbV"
      },
      "source": [
        "**Question 10:** Write a Python program to check if a variable is of a specific data type."
      ]
    },
    {
      "cell_type": "code",
      "metadata": {
        "colab": {
          "base_uri": "https://localhost:8080/"
        },
        "id": "H76gFtS0_KbV",
        "outputId": "fa812762-8e54-4152-a98e-e5079a13a73e"
      },
      "outputs": [
        {
          "output_type": "stream",
          "name": "stdout",
          "text": [
            "5.9 is not a int\n"
          ]
        }
      ],
      "source": [
        "# Ans 10\n",
        "num = 5.9\n",
        "if isinstance(num, int):\n",
        "    print(f\"{num} is a int\")\n",
        "else:\n",
        "    print(f\"{num} is not a int\")"
      ],
      "execution_count": 14
    },
    {
      "cell_type": "markdown",
      "metadata": {
        "id": "fIkjwwGW_KbV"
      },
      "source": [
        "## 3. Basic Operators (Arithmetic, Comparison, Logical)\n",
        "\n",
        "**Question 11:** Write a Python program to perform arithmetic operations: addition, subtraction, multiplication, and division."
      ]
    },
    {
      "cell_type": "code",
      "metadata": {
        "colab": {
          "base_uri": "https://localhost:8080/"
        },
        "id": "umysAIPa_KbV",
        "outputId": "809611ca-133b-4f25-e31e-2325716ecccb"
      },
      "outputs": [
        {
          "output_type": "stream",
          "name": "stdout",
          "text": [
            "Addition: 5 + 9 = 14\n",
            "Subtraction: 5 - 9 = -4\n",
            "Multiplication: 5 * 9 = 45\n",
            "Division: 5 / 9 = 0.5555555555555556\n"
          ]
        }
      ],
      "source": [
        "# Ans 11\n",
        "a = 5\n",
        "b = 9\n",
        "print(f\"Addition: {a} + {b} = {a + b}\")\n",
        "print(f\"Subtraction: {a} - {b} = {a - b}\")\n",
        "print(f\"Multiplication: {a} * {b} = {a * b}\")\n",
        "print(f\"Division: {a} / {b} = {a / b}\")"
      ],
      "execution_count": 15
    },
    {
      "cell_type": "markdown",
      "metadata": {
        "id": "b5ESHR24_KbV"
      },
      "source": [
        "**Question 12:** Write a Python program to demonstrate comparison operators: equal to, not equal to, greater than, less than."
      ]
    },
    {
      "cell_type": "code",
      "metadata": {
        "colab": {
          "base_uri": "https://localhost:8080/"
        },
        "id": "oo7ezAzo_KbV",
        "outputId": "78840849-cb50-4cda-b43b-2cfd6dc11c04"
      },
      "outputs": [
        {
          "output_type": "stream",
          "name": "stdout",
          "text": [
            "5 != 9: True\n",
            "5 == 9: False\n",
            "5 > 9: False\n",
            "5 < 9: True\n"
          ]
        }
      ],
      "source": [
        "# Ans 12\n",
        "a = 5\n",
        "b = 9\n",
        "print(f\"{a} != {b}: {a != b}\")\n",
        "print(f\"{a} == {b}: {a == b}\")\n",
        "print(f\"{a} > {b}: {a > b}\")\n",
        "print(f\"{a} < {b}: {a < b}\")"
      ],
      "execution_count": 17
    },
    {
      "cell_type": "markdown",
      "metadata": {
        "id": "R9Xw_AGX_KbV"
      },
      "source": [
        "**Question 13:** Write a Python program to demonstrate logical operators: and, or, not."
      ]
    },
    {
      "cell_type": "code",
      "metadata": {
        "colab": {
          "base_uri": "https://localhost:8080/"
        },
        "id": "G6NfaJ0__KbV",
        "outputId": "ac006e2d-4fb0-4759-c080-ada5b6a3ae33"
      },
      "outputs": [
        {
          "output_type": "stream",
          "name": "stdout",
          "text": [
            "True and False: False\n",
            "True or False: True\n",
            "not True: False\n"
          ]
        }
      ],
      "source": [
        "# Ans 13\n",
        "a = True\n",
        "b = False\n",
        "print(f\"True and False: {a and b}\")\n",
        "print(f\"True or False: {a or b}\")\n",
        "print(f\"not True: {not a}\")"
      ],
      "execution_count": 19
    },
    {
      "cell_type": "markdown",
      "metadata": {
        "id": "63aK5uRO_KbW"
      },
      "source": [
        "**Question 14:** Write a Python program to calculate the square of a number."
      ]
    },
    {
      "cell_type": "code",
      "metadata": {
        "colab": {
          "base_uri": "https://localhost:8080/"
        },
        "id": "mx4nwi09_KbW",
        "outputId": "2d090310-0729-4808-b3a6-f11cf73e37d9"
      },
      "outputs": [
        {
          "output_type": "stream",
          "name": "stdout",
          "text": [
            "Enter a number: 10\n",
            "The square of 10.0 is 100.0\n"
          ]
        }
      ],
      "source": [
        "# Ans 14\n",
        "num = float(input(\"Enter a number: \"))\n",
        "square = num ** 2\n",
        "print(f\"The square of {num} is {square}\")"
      ],
      "execution_count": 20
    },
    {
      "cell_type": "markdown",
      "metadata": {
        "id": "_TFS2utm_KbW"
      },
      "source": [
        "**Question 15:** Write a Python program to check if a number is even or odd."
      ]
    },
    {
      "cell_type": "code",
      "metadata": {
        "colab": {
          "base_uri": "https://localhost:8080/"
        },
        "id": "eyiREpqU_KbW",
        "outputId": "5e977a68-3159-4e7b-fb5a-6a85def4472d"
      },
      "outputs": [
        {
          "output_type": "stream",
          "name": "stdout",
          "text": [
            "Enter a number: 6\n",
            "6 is even.\n"
          ]
        }
      ],
      "source": [
        "# Ans 15\n",
        "num = int(input(\"Enter a number: \"))\n",
        "if num % 2 == 0:\n",
        "    print(f\"{num} is even.\")\n",
        "else:\n",
        "    print(f\"{num} is odd.\")"
      ],
      "execution_count": 21
    },
    {
      "cell_type": "markdown",
      "metadata": {
        "id": "1VBH-8HA_KbW"
      },
      "source": [
        "**Question 16:** Write a Python program to find the sum of the first n natural numbers."
      ]
    },
    {
      "cell_type": "code",
      "metadata": {
        "colab": {
          "base_uri": "https://localhost:8080/"
        },
        "id": "U5nE7kKv_KbW",
        "outputId": "adeccbe9-1ff5-4937-d6d7-f8539b770c06"
      },
      "outputs": [
        {
          "output_type": "stream",
          "name": "stdout",
          "text": [
            "Enter a number: 10\n",
            "The sum of the first 10 natural numbers is 55\n"
          ]
        }
      ],
      "source": [
        "# Ans 16\n",
        "num = int(input(\"Enter a number: \"))\n",
        "sum = (num * (num + 1)) // 2\n",
        "print(f\"The sum of the first {num} natural numbers is {sum}\")"
      ],
      "execution_count": 23
    },
    {
      "cell_type": "markdown",
      "metadata": {
        "id": "xh8QHGNt_KbW"
      },
      "source": [
        "**Question 17:** Write a Python program to check if a year is a leap year."
      ]
    },
    {
      "cell_type": "code",
      "metadata": {
        "colab": {
          "base_uri": "https://localhost:8080/"
        },
        "id": "yu1u8Z5v_KbW",
        "outputId": "b5182386-f56d-438c-84b6-dff76c0b65ef"
      },
      "outputs": [
        {
          "output_type": "stream",
          "name": "stdout",
          "text": [
            "Enter a year: 1900\n",
            "1900 is not a leap year.\n"
          ]
        }
      ],
      "source": [
        "# Ans 17\n",
        "year = int(input(\"Enter a year: \"))\n",
        "if (year % 4 == 0 and year % 100 != 0) or (year % 400 == 0):\n",
        "    print(f\"{year} is a leap year.\")\n",
        "else:\n",
        "    print(f\"{year} is not a leap year.\")"
      ],
      "execution_count": 25
    },
    {
      "cell_type": "markdown",
      "metadata": {
        "id": "7OwFxplv_KbW"
      },
      "source": [
        "**Question 18:** Write a Python program to reverse a string."
      ]
    },
    {
      "cell_type": "code",
      "metadata": {
        "colab": {
          "base_uri": "https://localhost:8080/"
        },
        "id": "2sA2sBW8_KbW",
        "outputId": "18170719-2f10-419a-a0af-4cb200aec33a"
      },
      "outputs": [
        {
          "output_type": "stream",
          "name": "stdout",
          "text": [
            "Enter a string: abhishek\n",
            "The reversed string is: kehsihba\n"
          ]
        }
      ],
      "source": [
        "# Ans 18\n",
        "string = input(\"Enter a string: \")\n",
        "reversed_string = string[::-1]\n",
        "print(f\"The reversed string is: {reversed_string}\")"
      ],
      "execution_count": 26
    },
    {
      "cell_type": "markdown",
      "metadata": {
        "id": "dCNJNWaV_KbW"
      },
      "source": [
        "**Question 19:** Write a Python program to check if a string is a palindrome."
      ]
    },
    {
      "cell_type": "code",
      "metadata": {
        "colab": {
          "base_uri": "https://localhost:8080/"
        },
        "id": "y5YebdAO_KbW",
        "outputId": "8378ea71-ba83-47a4-c968-c2a70ed65d86"
      },
      "outputs": [
        {
          "output_type": "stream",
          "name": "stdout",
          "text": [
            "Enter a string: racecar\n",
            "racecar is a palindrome.\n"
          ]
        }
      ],
      "source": [
        "# Ans 19\n",
        "string = input(\"Enter a string: \")\n",
        "if string == string[::-1]:\n",
        "    print(f\"{string} is a palindrome.\")\n",
        "else:\n",
        "    print(f\"{string} is not a palindrome.\")"
      ],
      "execution_count": 27
    },
    {
      "cell_type": "markdown",
      "metadata": {
        "id": "tXuXqqfO_Kbe"
      },
      "source": [
        "**Question 20:** Write a Python program to sort a list of numbers in ascending order."
      ]
    },
    {
      "cell_type": "code",
      "metadata": {
        "colab": {
          "base_uri": "https://localhost:8080/"
        },
        "id": "w_pd8I52_Kbe",
        "outputId": "f899af8b-235b-4d2e-d774-3608f51e8213"
      },
      "outputs": [
        {
          "output_type": "stream",
          "name": "stdout",
          "text": [
            "Enter numbers separated by space: 5 6 9 7 2 10\n",
            "Sorted list: [2, 5, 6, 7, 9, 10]\n"
          ]
        }
      ],
      "source": [
        "# Ans 20\n",
        "num = [int(x) for x in input(\"Enter numbers separated by space: \").split()]\n",
        "num.sort()\n",
        "print(f\"Sorted list: {num}\")"
      ],
      "execution_count": 28
    }
  ],
  "metadata": {
    "kernelspec": {
      "display_name": "Python 3",
      "language": "python",
      "name": "python3"
    },
    "language_info": {
      "codemirror_mode": {
        "name": "ipython",
        "version": 3
      },
      "file_extension": ".py",
      "mimetype": "text/x-python",
      "name": "python",
      "nbconvert_exporter": "python",
      "pygments_lexer": "ipython3",
      "version": "3.8.5"
    },
    "colab": {
      "provenance": []
    }
  },
  "nbformat": 4,
  "nbformat_minor": 0
}