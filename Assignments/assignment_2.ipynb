{
  "cells": [
    {
      "cell_type": "markdown",
      "metadata": {
        "id": "g32KOIJkFVu9"
      },
      "source": [
        "# Module 2: Control Flow Assignments\n",
        "## Lesson 2.1: Conditional Statements\n",
        "### Assignment 1: Simple if Statement\n",
        "\n",
        "Write a program that asks the user to input a number and prints whether the number is positive."
      ],
      "id": "g32KOIJkFVu9"
    },
    {
      "cell_type": "code",
      "execution_count": 7,
      "metadata": {
        "colab": {
          "base_uri": "https://localhost:8080/"
        },
        "id": "xvvI3x1FFVu-",
        "outputId": "89fdfde9-ca38-40d4-c7c6-49af535f88b0"
      },
      "outputs": [
        {
          "output_type": "stream",
          "name": "stdout",
          "text": [
            "enter a number: 8\n",
            "the number is positive.\n"
          ]
        }
      ],
      "source": [
        "num = float(input(\"enter a number: \"))\n",
        "if num > 0:\n",
        "    print(\"the number is positive.\")"
      ],
      "id": "xvvI3x1FFVu-"
    },
    {
      "cell_type": "markdown",
      "metadata": {
        "id": "aIlTnJs7FVu_"
      },
      "source": [
        "### Assignment 2: if-else Statement\n",
        "\n",
        "Write a program that asks the user to input a number and prints whether the number is positive or negative."
      ],
      "id": "aIlTnJs7FVu_"
    },
    {
      "cell_type": "code",
      "execution_count": 8,
      "metadata": {
        "colab": {
          "base_uri": "https://localhost:8080/"
        },
        "id": "XWaLgFSHFVu_",
        "outputId": "8f0f613a-f8e5-4c73-d337-f67c62b61f0f"
      },
      "outputs": [
        {
          "output_type": "stream",
          "name": "stdout",
          "text": [
            "Enter a number: -9\n",
            "the number is negative.\n"
          ]
        }
      ],
      "source": [
        "num = float(input(\"Enter a number: \"))\n",
        "if num > 0:\n",
        "    print(\"the number is positive.\")\n",
        "else:\n",
        "    print(\"the number is negative.\")"
      ],
      "id": "XWaLgFSHFVu_"
    },
    {
      "cell_type": "markdown",
      "metadata": {
        "id": "lQctPcblFVu_"
      },
      "source": [
        "### Assignment 3: if-elif-else Statement\n",
        "\n",
        "Write a program that asks the user to input a number and prints whether the number is positive, negative, or zero."
      ],
      "id": "lQctPcblFVu_"
    },
    {
      "cell_type": "code",
      "execution_count": 9,
      "metadata": {
        "colab": {
          "base_uri": "https://localhost:8080/"
        },
        "id": "zoOAR9C1FVu_",
        "outputId": "3229c022-6669-46a2-ea52-b3dff9da8b13"
      },
      "outputs": [
        {
          "output_type": "stream",
          "name": "stdout",
          "text": [
            "Enter a number: 0\n",
            "the number is zero.\n"
          ]
        }
      ],
      "source": [
        "num = float(input(\"Enter a number: \"))\n",
        "if num > 0:\n",
        "    print(\"the number is positive.\")\n",
        "elif num < 0:\n",
        "    print(\"the number is negative.\")\n",
        "else:\n",
        "    print(\"the number is zero.\")"
      ],
      "id": "zoOAR9C1FVu_"
    },
    {
      "cell_type": "markdown",
      "metadata": {
        "id": "s48xyV8HFVu_"
      },
      "source": [
        "### Assignment 4: Nested if Statement\n",
        "\n",
        "Write a program that asks the user to input a number and prints whether the number is positive and even, positive and odd, or negative."
      ],
      "id": "s48xyV8HFVu_"
    },
    {
      "cell_type": "code",
      "execution_count": 10,
      "metadata": {
        "colab": {
          "base_uri": "https://localhost:8080/"
        },
        "id": "AFwL60ByFVu_",
        "outputId": "5ab4d9f4-dd4e-4309-eba9-83a4cf907406"
      },
      "outputs": [
        {
          "output_type": "stream",
          "name": "stdout",
          "text": [
            "Enter a number: 6\n",
            "the number is positive and even.\n"
          ]
        }
      ],
      "source": [
        "num = float(input(\"Enter a number: \"))\n",
        "if num > 0:\n",
        "    if num % 2 == 0:\n",
        "        print(\"the number is positive and even.\")\n",
        "    else:\n",
        "        print(\"the number is positive and odd.\")\n",
        "else:\n",
        "    print(\"the number is negative.\")"
      ],
      "id": "AFwL60ByFVu_"
    },
    {
      "cell_type": "markdown",
      "metadata": {
        "id": "Yq6NLgTqFVu_"
      },
      "source": [
        "## Lesson 2.2: Loops\n",
        "### Assignment 5: for Loop\n",
        "\n",
        "Write a program that prints all the numbers from 1 to 10 using a for loop."
      ],
      "id": "Yq6NLgTqFVu_"
    },
    {
      "cell_type": "code",
      "execution_count": 11,
      "metadata": {
        "colab": {
          "base_uri": "https://localhost:8080/"
        },
        "id": "ODX89mzmFVvA",
        "outputId": "eb53ebf8-d1a4-4316-c661-69403a36bb2a"
      },
      "outputs": [
        {
          "output_type": "stream",
          "name": "stdout",
          "text": [
            "1\n",
            "2\n",
            "3\n",
            "4\n",
            "5\n",
            "6\n",
            "7\n",
            "8\n",
            "9\n",
            "10\n"
          ]
        }
      ],
      "source": [
        "for i in range(1, 11):\n",
        "    print(i)"
      ],
      "id": "ODX89mzmFVvA"
    },
    {
      "cell_type": "markdown",
      "metadata": {
        "id": "p6qKge0sFVvA"
      },
      "source": [
        "### Assignment 6: while Loop\n",
        "\n",
        "Write a program that prints all the numbers from 1 to 10 using a while loop."
      ],
      "id": "p6qKge0sFVvA"
    },
    {
      "cell_type": "code",
      "execution_count": 12,
      "metadata": {
        "colab": {
          "base_uri": "https://localhost:8080/"
        },
        "id": "YLlksHqWFVvA",
        "outputId": "8f8e41f0-ef9a-4085-d9ba-9e5090d3d49b"
      },
      "outputs": [
        {
          "output_type": "stream",
          "name": "stdout",
          "text": [
            "1\n",
            "2\n",
            "3\n",
            "4\n",
            "5\n",
            "6\n",
            "7\n",
            "8\n",
            "9\n",
            "10\n"
          ]
        }
      ],
      "source": [
        "i = 1\n",
        "while i <= 10:\n",
        "    print(i)\n",
        "    i += 1"
      ],
      "id": "YLlksHqWFVvA"
    },
    {
      "cell_type": "markdown",
      "metadata": {
        "id": "S5ko5397FVvA"
      },
      "source": [
        "### Assignment 7: Nested Loops\n",
        "\n",
        "Write a program that prints a 5x5 grid of asterisks (*) using nested loops."
      ],
      "id": "S5ko5397FVvA"
    },
    {
      "cell_type": "code",
      "execution_count": 13,
      "metadata": {
        "colab": {
          "base_uri": "https://localhost:8080/"
        },
        "id": "WbjdyHbIFVvA",
        "outputId": "72cc7914-4b62-43c3-f6e3-99647b67ba1a"
      },
      "outputs": [
        {
          "output_type": "stream",
          "name": "stdout",
          "text": [
            "* * * * * \n",
            "* * * * * \n",
            "* * * * * \n",
            "* * * * * \n",
            "* * * * * \n"
          ]
        }
      ],
      "source": [
        "for i in range(5):\n",
        "    for j in range(5):\n",
        "      print(\"*\", end=\" \")\n",
        "    print()"
      ],
      "id": "WbjdyHbIFVvA"
    },
    {
      "cell_type": "markdown",
      "metadata": {
        "id": "Y-48ScYbFVvA"
      },
      "source": [
        "### Assignment 8: break Statement\n",
        "\n",
        "Write a program that asks the user to input numbers until they input 0. The program should print the sum of all the input numbers."
      ],
      "id": "Y-48ScYbFVvA"
    },
    {
      "cell_type": "code",
      "execution_count": null,
      "metadata": {
        "id": "0KwXZDe_FVvA"
      },
      "outputs": [],
      "source": [
        "tot= 0\n",
        "while True:\n",
        "    num = float(input(\"enter a number (0 to stop): \"))\n",
        "    if num == 0:\n",
        "        break\n",
        "    tot += num\n",
        "print(f\"the sum of all the numbers is {tot}.\")"
      ],
      "id": "0KwXZDe_FVvA"
    },
    {
      "cell_type": "markdown",
      "metadata": {
        "id": "vmjxONgtFVvA"
      },
      "source": [
        "### Assignment 9: continue Statement\n",
        "\n",
        "Write a program that prints all the numbers from 1 to 10 except 5 using a for loop and continue statement."
      ],
      "id": "vmjxONgtFVvA"
    },
    {
      "cell_type": "code",
      "execution_count": null,
      "metadata": {
        "id": "VqRsw23CFVvA"
      },
      "outputs": [],
      "source": [
        "for i in range(1, 11):\n",
        "    if i == 5:\n",
        "        continue\n",
        "    print(i)"
      ],
      "id": "VqRsw23CFVvA"
    },
    {
      "cell_type": "markdown",
      "metadata": {
        "id": "o6aBV_iRFVvA"
      },
      "source": [
        "### Assignment 10: pass Statement\n",
        "\n",
        "Write a program that defines an empty function using the pass statement."
      ],
      "id": "o6aBV_iRFVvA"
    },
    {
      "cell_type": "code",
      "execution_count": 15,
      "metadata": {
        "id": "5qZ5dDe-FVvA"
      },
      "outputs": [],
      "source": [
        "def empty_func():\n",
        "    pass\n",
        "empty_func()"
      ],
      "id": "5qZ5dDe-FVvA"
    },
    {
      "cell_type": "markdown",
      "metadata": {
        "id": "H8cWxKmTFVvA"
      },
      "source": [
        "### Assignment 11: Combining Loops and Conditionals\n",
        "\n",
        "Write a program that asks the user to input a number and prints all the even numbers from 1 to that number using a for loop."
      ],
      "id": "H8cWxKmTFVvA"
    },
    {
      "cell_type": "code",
      "execution_count": 16,
      "metadata": {
        "colab": {
          "base_uri": "https://localhost:8080/"
        },
        "id": "A9_z5wKXFVvA",
        "outputId": "d433061a-7127-4682-bddb-646b93987186"
      },
      "outputs": [
        {
          "output_type": "stream",
          "name": "stdout",
          "text": [
            "Enter a number: 10\n",
            "2\n",
            "4\n",
            "6\n",
            "8\n",
            "10\n"
          ]
        }
      ],
      "source": [
        "num= int(input(\"Enter a number: \"))\n",
        "for i in range(1, num + 1):\n",
        "    if i % 2 == 0:\n",
        "        print(i)"
      ],
      "id": "A9_z5wKXFVvA"
    },
    {
      "cell_type": "markdown",
      "metadata": {
        "id": "1OxYYzlEFVvA"
      },
      "source": [
        "### Assignment 12: Factorial Calculation\n",
        "\n",
        "Write a program that calculates the factorial of a number input by the user using a while loop."
      ],
      "id": "1OxYYzlEFVvA"
    },
    {
      "cell_type": "code",
      "execution_count": 17,
      "metadata": {
        "colab": {
          "base_uri": "https://localhost:8080/"
        },
        "id": "AoXD2JctFVvA",
        "outputId": "53de053b-8469-4b55-cc7c-2e7e0974151a"
      },
      "outputs": [
        {
          "output_type": "stream",
          "name": "stdout",
          "text": [
            "Enter a number: 10\n",
            "The factorial of 10 is 3628800.\n"
          ]
        }
      ],
      "source": [
        "number = int(input(\"Enter a number: \"))\n",
        "factorial = 1\n",
        "i = 1\n",
        "while i <= number:\n",
        "    factorial *= i\n",
        "    i += 1\n",
        "print(f\"The factorial of {number} is {factorial}.\")"
      ],
      "id": "AoXD2JctFVvA"
    },
    {
      "cell_type": "markdown",
      "metadata": {
        "id": "FhL5Ma6oFVvA"
      },
      "source": [
        "### Assignment 13: Sum of Digits\n",
        "\n",
        "Write a program that calculates the sum of the digits of a number input by the user using a while loop."
      ],
      "id": "FhL5Ma6oFVvA"
    },
    {
      "cell_type": "code",
      "execution_count": 19,
      "metadata": {
        "colab": {
          "base_uri": "https://localhost:8080/"
        },
        "id": "bglMKzwEFVvA",
        "outputId": "671d6467-f3f9-4439-eed2-8180eabb87f8"
      },
      "outputs": [
        {
          "output_type": "stream",
          "name": "stdout",
          "text": [
            "enter a number: 89\n",
            "the sum of the digits is 17\n"
          ]
        }
      ],
      "source": [
        "num = int(input(\"enter a number: \"))\n",
        "sum=0\n",
        "while num > 0:\n",
        "    digit = num % 10\n",
        "    sum += digit\n",
        "    num= num // 10\n",
        "print(f\"the sum of the digits is {sum}\")"
      ],
      "id": "bglMKzwEFVvA"
    },
    {
      "cell_type": "markdown",
      "metadata": {
        "id": "GdG9CTERFVvA"
      },
      "source": [
        "### Assignment 14: Prime Number Check\n",
        "\n",
        "Write a program that checks if a number input by the user is a prime number using a for loop."
      ],
      "id": "GdG9CTERFVvA"
    },
    {
      "cell_type": "code",
      "execution_count": 20,
      "metadata": {
        "colab": {
          "base_uri": "https://localhost:8080/"
        },
        "id": "jYevddbuFVvB",
        "outputId": "729833a9-a2e0-42ac-ad1e-74c245cc21aa"
      },
      "outputs": [
        {
          "output_type": "stream",
          "name": "stdout",
          "text": [
            "Enter a number: 9\n",
            "9 is not a prime number.\n"
          ]
        }
      ],
      "source": [
        "num = int(input(\"enter a number: \"))\n",
        "is_prime = True\n",
        "if number <= 1:\n",
        "    is_prime = False\n",
        "else:\n",
        "    for i in range(2, int(number ** 0.5) + 1):\n",
        "        if number % i == 0:\n",
        "            is_prime = False\n",
        "            break\n",
        "if is_prime:\n",
        "    print(f\"{num} is a prime number.\")\n",
        "else:\n",
        "    print(f\"{num} is not a prime number.\")"
      ],
      "id": "jYevddbuFVvB"
    },
    {
      "cell_type": "markdown",
      "metadata": {
        "id": "HDF8lY-cFVvB"
      },
      "source": [
        "### Assignment 15: Fibonacci Sequence\n",
        "\n",
        "Write a program that prints the first n Fibonacci numbers, where n is input by the user."
      ],
      "id": "HDF8lY-cFVvB"
    },
    {
      "cell_type": "code",
      "execution_count": 21,
      "metadata": {
        "colab": {
          "base_uri": "https://localhost:8080/"
        },
        "id": "YI6BcClVFVvB",
        "outputId": "f72651f2-1fc7-4c85-b9e0-ad84cc9067cc"
      },
      "outputs": [
        {
          "output_type": "stream",
          "name": "stdout",
          "text": [
            "enter the number of Fibonacci numbers to print: 6\n",
            "0\n",
            "1\n",
            "1\n",
            "2\n",
            "3\n",
            "5\n"
          ]
        }
      ],
      "source": [
        "n = int(input(\"enter the number of Fibonacci numbers to print: \"))\n",
        "a, b = 0, 1\n",
        "count = 0\n",
        "while count < n:\n",
        "    print(a)\n",
        "    a, b = b, a + b\n",
        "    count += 1"
      ],
      "id": "YI6BcClVFVvB"
    },
    {
      "cell_type": "code",
      "source": [],
      "metadata": {
        "id": "Hym93ejuMK3J"
      },
      "id": "Hym93ejuMK3J",
      "execution_count": null,
      "outputs": []
    }
  ],
  "metadata": {
    "kernelspec": {
      "display_name": "Python 3",
      "language": "python",
      "name": "python3"
    },
    "language_info": {
      "codemirror_mode": {
        "name": "ipython",
        "version": 3
      },
      "file_extension": ".py",
      "mimetype": "text/x-python",
      "name": "python",
      "nbconvert_exporter": "python",
      "pygments_lexer": "ipython3",
      "version": "3.12.0"
    },
    "colab": {
      "provenance": []
    }
  },
  "nbformat": 4,
  "nbformat_minor": 5
}