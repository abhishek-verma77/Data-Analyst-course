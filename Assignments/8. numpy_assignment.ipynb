{
 "cells": [
  {
   "cell_type": "markdown",
   "metadata": {},
   "source": [
    "# Module: NumPy Assignments\n",
    "## Lesson: NumPy\n",
    "### Assignment 1: Array Creation and Manipulation\n",
    "\n",
    "1. Create a NumPy array of shape (5, 5) filled with random integers between 1 and 20. Replace all the elements in the third column with 1.\n",
    "2. Create a NumPy array of shape (4, 4) with values from 1 to 16. Replace the diagonal elements with 0.\n",
    "\n",
    "### Assignment 2: Array Indexing and Slicing\n",
    "\n",
    "1. Create a NumPy array of shape (6, 6) with values from 1 to 36. Extract the sub-array consisting of the 3rd to 5th rows and 2nd to 4th columns.\n",
    "2. Create a NumPy array of shape (5, 5) with random integers. Extract the elements on the border.\n",
    "\n",
    "### Assignment 3: Array Operations\n",
    "\n",
    "1. Create two NumPy arrays of shape (3, 4) filled with random integers. Perform element-wise addition, subtraction, multiplication, and division.\n",
    "2. Create a NumPy array of shape (4, 4) with values from 1 to 16. Compute the row-wise and column-wise sum.\n",
    "\n",
    "### Assignment 4: Statistical Operations\n",
    "\n",
    "1. Create a NumPy array of shape (5, 5) filled with random integers. Compute the mean, median, standard deviation, and variance of the array.\n",
    "2. Create a NumPy array of shape (3, 3) with values from 1 to 9. Normalize the array (i.e., scale the values to have a mean of 0 and a standard deviation of 1).\n",
    "\n",
    "### Assignment 5: Broadcasting\n",
    "\n",
    "1. Create a NumPy array of shape (3, 3) filled with random integers. Add a 1D array of shape (3,) to each row of the 2D array using broadcasting.\n",
    "2. Create a NumPy array of shape (4, 4) filled with random integers. Subtract a 1D array of shape (4,) from each column of the 2D array using broadcasting.\n",
    "\n",
    "### Assignment 6: Linear Algebra\n",
    "\n",
    "1. Create a NumPy array of shape (3, 3) representing a matrix. Compute its determinant, inverse, and eigenvalues.\n",
    "2. Create two NumPy arrays of shape (2, 3) and (3, 2). Perform matrix multiplication on these arrays.\n",
    "\n",
    "### Assignment 7: Advanced Array Manipulation\n",
    "\n",
    "1. Create a NumPy array of shape (3, 3) with values from 1 to 9. Reshape the array to shape (1, 9) and then to shape (9, 1).\n",
    "2. Create a NumPy array of shape (5, 5) filled with random integers. Flatten the array and then reshape it back to (5, 5).\n",
    "\n",
    "### Assignment 8: Fancy Indexing and Boolean Indexing\n",
    "\n",
    "1. Create a NumPy array of shape (5, 5) filled with random integers. Use fancy indexing to extract the elements at the corners of the array.\n",
    "2. Create a NumPy array of shape (4, 4) filled with random integers. Use boolean indexing to set all elements greater than 10 to 10.\n",
    "\n",
    "### Assignment 9: Structured Arrays\n",
    "\n",
    "1. Create a structured array with fields 'name' (string), 'age' (integer), and 'weight' (float). Add some data and sort the array by age.\n",
    "2. Create a structured array with fields 'x' and 'y' (both integers). Add some data and compute the Euclidean distance between each pair of points.\n",
    "\n",
    "### Assignment 10: Masked Arrays\n",
    "\n",
    "1. Create a masked array of shape (4, 4) with random integers and mask the elements greater than 10. Compute the sum of the unmasked elements.\n",
    "2. Create a masked array of shape (3, 3) with random integers and mask the diagonal elements. Replace the masked elements with the mean of the unmasked elements."
   ]
  },
  {
   "cell_type": "code",
   "execution_count": null,
   "metadata": {},
   "outputs": [
    {
     "name": "stdout",
     "output_type": "stream",
     "text": [
      "original array:\n",
      "[[ 3 19 13  4  6]\n",
      " [ 2  3 12 16 11]\n",
      " [ 2 20  6  8  1]\n",
      " [ 4 11 13 10  6]\n",
      " [16 16 19  7  6]]\n",
      "\n",
      "modified array:\n",
      "[[ 3 19  1  4  6]\n",
      " [ 2  3  1 16 11]\n",
      " [ 2 20  1  8  1]\n",
      " [ 4 11  1 10  6]\n",
      " [16 16  1  7  6]]\n"
     ]
    }
   ],
   "source": [
    "# Ans 1.1\n",
    "import random\n",
    "import numpy as np\n",
    "num1 = np.random.randint(1,21,size=(5,5))\n",
    "print(f\"original array:\\n{num1}\")\n",
    "num1[:,2] = 1\n",
    "print(f\"\\nmodified array:\\n{num1}\")\n"
   ]
  },
  {
   "cell_type": "code",
   "execution_count": 38,
   "id": "8b94f7b6",
   "metadata": {},
   "outputs": [
    {
     "name": "stdout",
     "output_type": "stream",
     "text": [
      "original array:\n",
      "[[ 9  9  2  2]\n",
      " [12  3  9  2]\n",
      " [13  7 14  9]\n",
      " [ 6  8  1  2]]\n",
      "\n",
      "modified array:\n",
      "[[ 0  9  2  2]\n",
      " [12  0  9  2]\n",
      " [13  7  0  9]\n",
      " [ 6  8  1  0]]\n"
     ]
    }
   ],
   "source": [
    "# Ans 1.2\n",
    "num2 = np.random.randint(1,17,size=(4,4))\n",
    "print(f\"original array:\\n{num2}\")\n",
    "np.fill_diagonal(num2,0)\n",
    "print(f\"\\nmodified array:\\n{num2}\")"
   ]
  },
  {
   "cell_type": "code",
   "execution_count": 48,
   "id": "3ce98c65",
   "metadata": {},
   "outputs": [
    {
     "name": "stdout",
     "output_type": "stream",
     "text": [
      "Original array:\n",
      "original array:\n",
      "[[ 1  2  3  4  5  6]\n",
      " [ 7  8  9 10 11 12]\n",
      " [13 14 15 16 17 18]\n",
      " [19 20 21 22 23 24]\n",
      " [25 26 27 28 29 30]\n",
      " [31 32 33 34 35 36]]\n",
      "\n",
      "extracted array from 3rd to 5th row and 2nd to 4th column:\n",
      "[[14 15 16]\n",
      " [20 21 22]\n",
      " [26 27 28]]\n"
     ]
    }
   ],
   "source": [
    "# Ans 2.1\n",
    "num3 = np.arange(1, 37).reshape((6, 6))\n",
    "print(\"Original array:\")\n",
    "print(f\"original array:\\n{num3}\")\n",
    "print(f\"\\nextracted array from 3rd to 5th row and 2nd to 4th column:\\n{num3[2:5,1:4]}\")"
   ]
  },
  {
   "cell_type": "code",
   "execution_count": 66,
   "id": "4f538fde",
   "metadata": {},
   "outputs": [
    {
     "name": "stdout",
     "output_type": "stream",
     "text": [
      "original array:\n",
      "[[61 49 13 48 58]\n",
      " [98 61 74 85 52]\n",
      " [54 15 21 13  1]\n",
      " [ 3 74 17  3 16]\n",
      " [35 77 41 64 99]]\n",
      "\n",
      " border elements:\n",
      "[61 49 13 48 58 35 77 41 64 99 98 54  3 52  1 16]\n"
     ]
    }
   ],
   "source": [
    "# Ans 2.2\n",
    "num4 = np.random.randint(100,size=(5,5))\n",
    "print(f\"original array:\\n{num4}\")\n",
    "print(f\"\\n border elements:\\n{np.concatenate((num4[0, :], num4[4, :], num4[1:4, 0], num4[1:4, 4]))}\")"
   ]
  },
  {
   "cell_type": "code",
   "execution_count": 68,
   "id": "211554fa",
   "metadata": {},
   "outputs": [
    {
     "name": "stdout",
     "output_type": "stream",
     "text": [
      "original array 1:\n",
      "[[41  7 56 56]\n",
      " [95 77 32 34]\n",
      " [21  9 86 83]]\n",
      "original array 2:\n",
      "[[26 60 61 63]\n",
      " [22 67 42 90]\n",
      " [66 72 52  8]]\n",
      "element wise addition:\n",
      "[[ 67  67 117 119]\n",
      " [117 144  74 124]\n",
      " [ 87  81 138  91]]\n",
      "element wise subtraction:\n",
      "[[ 15 -53  -5  -7]\n",
      " [ 73  10 -10 -56]\n",
      " [-45 -63  34  75]]\n",
      "element wise multiplication:\n",
      "[[1066  420 3416 3528]\n",
      " [2090 5159 1344 3060]\n",
      " [1386  648 4472  664]]\n",
      "element wise division:\n",
      "[[ 1.57692308  0.11666667  0.91803279  0.88888889]\n",
      " [ 4.31818182  1.14925373  0.76190476  0.37777778]\n",
      " [ 0.31818182  0.125       1.65384615 10.375     ]]\n"
     ]
    }
   ],
   "source": [
    "# Ans 3.1\n",
    "num5 = np.random.randint(100,size=(3,4))\n",
    "num6 = np.random.randint(100,size=(3,4))\n",
    "print(f\"original array 1:\\n{num5}\")\n",
    "print(f\"original array 2:\\n{num6}\")\n",
    "print(f\"element wise addition:\\n{np.add(num5,num6)}\")\n",
    "print(f\"element wise subtraction:\\n{np.subtract(num5,num6)}\")\n",
    "print(f\"element wise multiplication:\\n{np.multiply(num5,num6)}\")\n",
    "print(f\"element wise division:\\n{np.divide(num5,num6)}\")"
   ]
  },
  {
   "cell_type": "code",
   "execution_count": 75,
   "id": "c32f1024",
   "metadata": {},
   "outputs": [
    {
     "name": "stdout",
     "output_type": "stream",
     "text": [
      "original array:\n",
      "[[ 1  2  3  4]\n",
      " [ 5  6  7  8]\n",
      " [ 9 10 11 12]\n",
      " [13 14 15 16]]\n",
      "\n",
      "row wise sum:\n",
      "[10 26 42 58]\n",
      "\n",
      "column wise sum:\n",
      "[28 32 36 40]\n"
     ]
    }
   ],
   "source": [
    "# Ans 3.2\n",
    "num7 = np.arange(1,17).reshape((4,4))\n",
    "print(f\"original array:\\n{num7}\")\n",
    "print(f\"\\nrow wise sum:\\n{np.sum(num7, axis=1)}\")\n",
    "print(f\"\\ncolumn wise sum:\\n{np.sum(num7, axis=0)}\")"
   ]
  },
  {
   "cell_type": "code",
   "execution_count": 78,
   "id": "ea84bd96",
   "metadata": {},
   "outputs": [
    {
     "name": "stdout",
     "output_type": "stream",
     "text": [
      "Original array:[[19  4  8 18 11]\n",
      " [ 5  2 12 12  8]\n",
      " [14 10  6  6 12]\n",
      " [ 2  3 20 20  6]\n",
      " [16 18  1 12 15]]\n",
      "Mean:,10.4\n",
      "Median:,11.0\n",
      "Standard Deviation:,5.912698199637792\n",
      "Variance:34.959999999999994\n"
     ]
    }
   ],
   "source": [
    "# Ans 4.1\n",
    "num8 = np.random.randint(1, 21, size=(5, 5))\n",
    "print(f\"Original array:{num8}\")\n",
    "print(f\"Mean:,{np.mean(num8)}\")\n",
    "print(f\"Median:,{np.median(num8)}\")\n",
    "print(f\"Standard Deviation:,{np.std(num8)}\")\n",
    "print(f\"Variance:{np.var(num8)}\")"
   ]
  },
  {
   "cell_type": "code",
   "execution_count": null,
   "id": "02ee3f8c",
   "metadata": {},
   "outputs": [
    {
     "name": "stdout",
     "output_type": "stream",
     "text": [
      "Original array:[[1 2 3]\n",
      " [4 5 6]\n",
      " [7 8 9]]\n",
      "Normalized array:\n",
      "[[-1.54919334 -1.161895   -0.77459667]\n",
      " [-0.38729833  0.          0.38729833]\n",
      " [ 0.77459667  1.161895    1.54919334]]\n"
     ]
    }
   ],
   "source": [
    "# Ans 4.2\n",
    "num9 = np.arange(1, 10).reshape((3, 3))\n",
    "print(f\"Original array:{num9}\")\n",
    "mean = np.mean(num9)\n",
    "std_dev = np.std(num9)\n",
    "normalized_array = (num9 - mean) / std_dev\n",
    "\n",
    "print(\"Normalized array:\")\n",
    "print(normalized_array)"
   ]
  },
  {
   "cell_type": "code",
   "execution_count": 97,
   "id": "096a57af",
   "metadata": {},
   "outputs": [
    {
     "name": "stdout",
     "output_type": "stream",
     "text": [
      "original array:\n",
      "[[18 50 92]\n",
      " [92 96 32]\n",
      " [84  0 78]]\n",
      "array to be added:\n",
      "[10 11 12]\n",
      "array after adding:\n",
      "[[ 28  61 104]\n",
      " [102 107  44]\n",
      " [ 94  11  90]]\n"
     ]
    }
   ],
   "source": [
    "# Ans 5.1\n",
    "num10 = np.random.randint(100, size=(3,3))\n",
    "num11 = np.array([10,11,12])\n",
    "print(f\"original array:\\n{num10}\")\n",
    "print(f\"array to be added:\\n{num11}\")\n",
    "print(f\"array after adding:\\n{num10 + num11}\")"
   ]
  },
  {
   "cell_type": "code",
   "execution_count": 98,
   "id": "adb3a957",
   "metadata": {},
   "outputs": [
    {
     "name": "stdout",
     "output_type": "stream",
     "text": [
      "original array:\n",
      "[[45 75  2 15]\n",
      " [42 38 40 45]\n",
      " [38 71 29 29]\n",
      " [48 30  4 11]]\n",
      "array to be subtracted:\n",
      "[5 6 7 8]\n",
      "array after subtracting:\n",
      "[[40 70 -3 10]\n",
      " [36 32 34 39]\n",
      " [31 64 22 22]\n",
      " [40 22 -4  3]]\n"
     ]
    }
   ],
   "source": [
    "# Ans 5.2\n",
    "num12 = np.random.randint(100, size=(4,4))\n",
    "num13 = np.array([5,6,7,8])\n",
    "print(f\"original array:\\n{num12}\")\n",
    "print(f\"array to be subtracted:\\n{num13}\")\n",
    "print(f\"array after subtracting:\\n{num12 - num13[:, np.newaxis]}\")"
   ]
  },
  {
   "cell_type": "code",
   "execution_count": 99,
   "id": "43e3930d",
   "metadata": {},
   "outputs": [
    {
     "name": "stdout",
     "output_type": "stream",
     "text": [
      "original matrix:\n",
      "[[ 7  9 10]\n",
      " [ 1  3  2]\n",
      " [ 5  3  4]]\n",
      "determinant:\n",
      " {-23.999999999999982}\n",
      "inverse:\n",
      "-23.999999999999982\n",
      "eigenvalues:\n",
      "[14.16278001 -1.38569323  1.22291322]\n"
     ]
    }
   ],
   "source": [
    "# Ans 6.1\n",
    "num14 = np.random.randint(1, 11, size=(3, 3))\n",
    "print(f\"original matrix:\\n{num14}\")\n",
    "print(\"determinant:\\n\",{np.linalg.det(num14)})\n",
    "print(f\"inverse:\\n{np.linalg.det(num14)}\")\n",
    "print(f\"eigenvalues:\\n{np.linalg.eigvals(num14)}\")"
   ]
  },
  {
   "cell_type": "code",
   "execution_count": 100,
   "id": "d0f85b46",
   "metadata": {},
   "outputs": [
    {
     "name": "stdout",
     "output_type": "stream",
     "text": [
      "array 1:\n",
      "[[ 2  4  8]\n",
      " [ 2 10  1]]\n",
      "array 2:\n",
      "[[ 7  8]\n",
      " [ 7  8]\n",
      " [10  1]]\n",
      "matrix multiplication result:\n",
      "[[122  56]\n",
      " [ 94  97]]\n"
     ]
    }
   ],
   "source": [
    "# Ans 6.2\n",
    "# Create two NumPy arrays of shape (2, 3) and (3, 2)\n",
    "num15 = np.random.randint(1, 11, size=(2, 3))\n",
    "num16 = np.random.randint(1, 11, size=(3, 2))\n",
    "print(f\"array 1:\\n{num15}\")\n",
    "print(f\"array 2:\\n{num16}\")\n",
    "print(f\"matrix multiplication result:\\n{np.dot(num15,num16)}\")"
   ]
  },
  {
   "cell_type": "code",
   "execution_count": 103,
   "id": "e03075a0",
   "metadata": {},
   "outputs": [
    {
     "name": "stdout",
     "output_type": "stream",
     "text": [
      "original array:[[1 2 3]\n",
      " [4 5 6]\n",
      " [7 8 9]]\n",
      "Reshaped array (1, 9):[[1 2 3 4 5 6 7 8 9]]\n",
      "Reshaped array (9, 1):[[1]\n",
      " [2]\n",
      " [3]\n",
      " [4]\n",
      " [5]\n",
      " [6]\n",
      " [7]\n",
      " [8]\n",
      " [9]]\n"
     ]
    }
   ],
   "source": [
    "# Ans 7.1\n",
    "# Create a NumPy array of shape (3, 3) with values from 1 to 9\n",
    "num17 = np.arange(1, 10).reshape((3, 3))\n",
    "print(f\"original array:{num17}\")\n",
    "reshaped_array_1 =num17.reshape((1, 9))\n",
    "print(f\"Reshaped array (1, 9):{num17.reshape((1, 9))}\")\n",
    "reshaped_array_2 = reshaped_array_1.reshape((9, 1))\n",
    "print(f\"Reshaped array (9, 1):{reshaped_array_2}\")"
   ]
  },
  {
   "cell_type": "code",
   "execution_count": 104,
   "id": "c007ccb0",
   "metadata": {},
   "outputs": [
    {
     "name": "stdout",
     "output_type": "stream",
     "text": [
      "Original array:[[ 3 10  4 17  5]\n",
      " [ 6 11 18  6  6]\n",
      " [13 19 13 16 13]\n",
      " [16  6 12 18  1]\n",
      " [18  4 14 16 15]]\n",
      "Flattened array:[ 3 10  4 17  5  6 11 18  6  6 13 19 13 16 13 16  6 12 18  1 18  4 14 16\n",
      " 15]\n",
      "Reshaped array:[[ 3 10  4 17  5]\n",
      " [ 6 11 18  6  6]\n",
      " [13 19 13 16 13]\n",
      " [16  6 12 18  1]\n",
      " [18  4 14 16 15]]\n"
     ]
    }
   ],
   "source": [
    "# Ans 7.2\n",
    "num18 = np.random.randint(1, 21, size=(5, 5))\n",
    "print(f\"Original array:{num18}\")\n",
    "flattened_array = num18.flatten()\n",
    "print(f\"Flattened array:{flattened_array}\")\n",
    "reshaped_array = flattened_array.reshape((5, 5))\n",
    "print(f\"Reshaped array:{reshaped_array}\")\n"
   ]
  },
  {
   "cell_type": "code",
   "execution_count": null,
   "id": "caedf32f",
   "metadata": {},
   "outputs": [
    {
     "name": "stdout",
     "output_type": "stream",
     "text": [
      "Original array:[[15 11 10 13 18]\n",
      " [ 1 11 12 11  1]\n",
      " [14 15 13 19 15]\n",
      " [13 11 18 16  3]\n",
      " [ 6 20  3 13 14]]\n",
      "Corner elements:[15 18  6 14]\n"
     ]
    }
   ],
   "source": [
    "# Ans 8.1\n",
    "num19 = np.random.randint(1, 21, size=(5, 5))\n",
    "print(f\"Original array:{num19}\")\n",
    "corners = num19[[0, 0, -1, -1], [0, -1, 0, -1]]\n",
    "print(f\"Corner elements:{corners}\")"
   ]
  },
  {
   "cell_type": "code",
   "execution_count": 108,
   "id": "a84bf512",
   "metadata": {},
   "outputs": [
    {
     "name": "stdout",
     "output_type": "stream",
     "text": [
      "Original array:[[19 20 18 15]\n",
      " [ 1 13 19  3]\n",
      " [ 8  5 11 18]\n",
      " [ 3  1 11 11]]\n",
      "Modified array:[[10 10 10 10]\n",
      " [ 1 10 10  3]\n",
      " [ 8  5 10 10]\n",
      " [ 3  1 10 10]]\n"
     ]
    }
   ],
   "source": [
    "# Ans 8.2\n",
    "num20 = np.random.randint(1, 21, size=(4, 4))\n",
    "print(f\"Original array:{num20}\")\n",
    "num20[num20 > 10] = 10\n",
    "print(f\"Modified array:{num20}\")\n"
   ]
  },
  {
   "cell_type": "code",
   "execution_count": null,
   "id": "059c0217",
   "metadata": {},
   "outputs": [
    {
     "name": "stdout",
     "output_type": "stream",
     "text": [
      "Original array:[('name', 'U10'), ('age', 'i4'), ('weight', 'f4')]\n",
      "Sorted array by age:[('atharva', 21, 65. ) ('harsh', 21, 65.2) ('abhishek', 22, 62.7)]\n"
     ]
    }
   ],
   "source": [
    "# Ans 9.1\n",
    "data_type = [('name', 'U10'), ('age', 'i4'), ('weight', 'f4')]\n",
    "num20 = np.array([('abhishek', 22, 62.7), ('atharva', 21, 65), ('harsh', 21, 65.2)], dtype=data_type)\n",
    "print(f\"Original array:{num21}\")\n",
    "sorted_data = np.sort(num20, order='age')\n",
    "print(f\"Sorted array by age:{sorted_data}\")\n"
   ]
  },
  {
   "cell_type": "code",
   "execution_count": 114,
   "id": "ba089a8f",
   "metadata": {},
   "outputs": [
    {
     "name": "stdout",
     "output_type": "stream",
     "text": [
      "Original array:[(1, 2) (3, 4) (5, 6)]\n",
      "Euclidean distances:[[0.         2.82842712 5.65685425]\n",
      " [2.82842712 0.         2.82842712]\n",
      " [5.65685425 2.82842712 0.        ]]\n"
     ]
    }
   ],
   "source": [
    "# Ans 9.2\n",
    "data_type = [('x', 'i4'), ('y', 'i4')]\n",
    "num21 = np.array([(1, 2), (3, 4), (5, 6)], dtype=data_type)\n",
    "print(f\"Original array:{num21}\")\n",
    "distances = np.sqrt((num21['x'][:, np.newaxis] - num21['x'])**2 + (num21['y'][:, np.newaxis] - num21['y'])**2)\n",
    "print(f\"Euclidean distances:{distances}\")\n"
   ]
  },
  {
   "cell_type": "code",
   "execution_count": null,
   "id": "7ed01b6a",
   "metadata": {},
   "outputs": [
    {
     "name": "stdout",
     "output_type": "stream",
     "text": [
      "Original array:[[14  6 14 19]\n",
      " [ 9 12 16 12]\n",
      " [ 7 20  2  6]\n",
      " [10 10 10  5]]\n",
      "Masked array:[[-- 6 -- --]\n",
      " [9 -- -- --]\n",
      " [7 -- 2 6]\n",
      " [10 10 10 5]]\n",
      "Sum of unmasked elements:65\n"
     ]
    }
   ],
   "source": [
    "# Ans 10.1\n",
    "import numpy.ma as ma\n",
    "\n",
    "num22 = np.random.randint(1, 21, size=(4, 4))\n",
    "masked_num1 = ma.masked_greater(num22, 10)\n",
    "print(f\"Original array:{num22}\")\n",
    "print(f\"Masked array:{masked_num1}\")\n",
    "sum_unmasked = masked_num1.sum()\n",
    "print(f\"Sum of unmasked elements:{sum_unmasked}\")"
   ]
  },
  {
   "cell_type": "code",
   "execution_count": 120,
   "id": "6b99fa97",
   "metadata": {},
   "outputs": [
    {
     "name": "stdout",
     "output_type": "stream",
     "text": [
      "Original array:[[12 19  1]\n",
      " [10  9 10]\n",
      " [ 4 17  7]]\n",
      "Masked array:[[-- 19 1]\n",
      " [10 -- 10]\n",
      " [4 17 --]]\n",
      "Modified masked array:{masked_array}\n",
      "[[10 19  1]\n",
      " [10 10 10]\n",
      " [ 4 17 10]]\n"
     ]
    }
   ],
   "source": [
    "# Ans 10.2\n",
    "num23 = np.random.randint(1, 21, size=(3, 3))\n",
    "masked_num2 = ma.masked_array(num23, mask=np.eye(3, dtype=bool))\n",
    "print(f\"Original array:{num23}\")\n",
    "print(f\"Masked array:{masked_num2}\")\n",
    "mean_unmasked = masked_num2.mean()\n",
    "masked_array = masked_num2.filled(mean_unmasked)\n",
    "print(\"Modified masked array:{masked_array}\")\n",
    "print(masked_array)"
   ]
  },
  {
   "cell_type": "code",
   "execution_count": null,
   "id": "b0ffb186",
   "metadata": {},
   "outputs": [],
   "source": []
  }
 ],
 "metadata": {
  "kernelspec": {
   "display_name": "base",
   "language": "python",
   "name": "python3"
  },
  "language_info": {
   "codemirror_mode": {
    "name": "ipython",
    "version": 3
   },
   "file_extension": ".py",
   "mimetype": "text/x-python",
   "name": "python",
   "nbconvert_exporter": "python",
   "pygments_lexer": "ipython3",
   "version": "3.12.7"
  }
 },
 "nbformat": 4,
 "nbformat_minor": 5
}
