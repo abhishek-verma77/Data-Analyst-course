{
 "cells": [
  {
   "cell_type": "markdown",
   "id": "6cade624",
   "metadata": {},
   "source": [
    "# Module 3: Data Structures Assignments\n",
    "## Lesson 3.2: Tuples\n",
    "### Assignment 1: Creating and Accessing Tuples\n",
    "\n",
    "Create a tuple with the first 10 positive integers. Print the tuple.\n",
    "\n",
    "### Assignment 2: Accessing Tuple Elements\n",
    "\n",
    "Print the first, middle, and last elements of the tuple created in Assignment 1.\n",
    "\n",
    "### Assignment 3: Tuple Slicing\n",
    "\n",
    "Print the first three elements, the last three elements, and the elements from index 2 to 5 of the tuple created in Assignment 1.\n",
    "\n",
    "### Assignment 4: Nested Tuples\n",
    "\n",
    "Create a nested tuple representing a 3x3 matrix and print the matrix. Access and print the element at the second row and third column.\n",
    "\n",
    "### Assignment 5: Tuple Concatenation\n",
    "\n",
    "Concatenate two tuples: (1, 2, 3) and (4, 5, 6). Print the resulting tuple.\n",
    "\n",
    "### Assignment 6: Tuple Methods\n",
    "\n",
    "Create a tuple with duplicate elements and count the occurrences of an element. Find the index of the first occurrence of an element in the tuple.\n",
    "\n",
    "### Assignment 7: Unpacking Tuples\n",
    "\n",
    "Create a tuple with 5 elements and unpack it into 5 variables. Print the variables.\n",
    "\n",
    "### Assignment 8: Tuple Conversion\n",
    "\n",
    "Convert a list of the first 5 positive integers to a tuple. Print the tuple.\n",
    "\n",
    "### Assignment 9: Tuple of Tuples\n",
    "\n",
    "Create a tuple containing 3 tuples, each with 3 elements. Print the tuple of tuples.\n",
    "\n",
    "### Assignment 10: Tuple and List\n",
    "\n",
    "Create a tuple with the first 5 positive integers. Convert it to a list, append the number 6, and convert it back to a tuple. Print the resulting tuple.\n",
    "\n",
    "### Assignment 11: Tuple and String\n",
    "\n",
    "Create a tuple with the characters of a string. Join the tuple elements into a single string. Print the string.\n",
    "\n",
    "### Assignment 12: Tuple and Dictionary\n",
    "\n",
    "Create a dictionary with tuple keys and integer values. Print the dictionary.\n",
    "\n",
    "### Assignment 13: Nested Tuple Iteration\n",
    "\n",
    "Create a nested tuple and iterate over the elements, printing each element.\n",
    "\n",
    "### Assignment 14: Tuple and Set\n",
    "\n",
    "Create a tuple with duplicate elements. Convert it to a set to remove duplicates and print the resulting set.\n",
    "\n",
    "### Assignment 15: Tuple Functions\n",
    "\n",
    "Write functions that take a tuple and return the minimum, maximum, and sum of the elements. Print the results for a sample tuple."
   ]
  },
  {
   "cell_type": "code",
   "execution_count": 1,
   "metadata": {},
   "outputs": [
    {
     "name": "stdout",
     "output_type": "stream",
     "text": [
      "(1, 2, 3, 4, 5, 6, 7, 8, 9, 10)\n"
     ]
    }
   ],
   "source": [
    "# Ans 1\n",
    "tpl=(1,2,3,4,5,6,7,8,9,10)\n",
    "print(tpl)"
   ]
  },
  {
   "cell_type": "code",
   "execution_count": 6,
   "id": "87b89659",
   "metadata": {},
   "outputs": [
    {
     "name": "stdout",
     "output_type": "stream",
     "text": [
      "first element: 1, middle elemenet: 6, last element: 10\n"
     ]
    }
   ],
   "source": [
    "# Ans 2\n",
    "print(f\"first element: {tpl[0]}, middle elemenet: {tpl[len(tpl)//2]}, last element: {tpl[-1]}\")"
   ]
  },
  {
   "cell_type": "code",
   "execution_count": 8,
   "id": "2c08b0ea",
   "metadata": {},
   "outputs": [
    {
     "name": "stdout",
     "output_type": "stream",
     "text": [
      "first three element: (1, 2, 3, 4), last three element: (7, 8, 9), element from index 2 to 5: (3, 4, 5, 6)\n"
     ]
    }
   ],
   "source": [
    "# Ans 3\n",
    "print(f\"first three element: {tpl[0:4]}, last three element: {tpl[-4:-1]}, element from index 2 to 5: {tpl[2:6]}\")"
   ]
  },
  {
   "cell_type": "code",
   "execution_count": 15,
   "id": "486864c8",
   "metadata": {},
   "outputs": [
    {
     "name": "stdout",
     "output_type": "stream",
     "text": [
      "1 2 3  \n",
      "4 5 6  \n",
      "7 8 9  \n"
     ]
    }
   ],
   "source": [
    "# Ans 4\n",
    "tupl=((1,2,3), (4,5,6), (7,8,9))\n",
    "for i in tupl:\n",
    "    for j in i:\n",
    "        print(j,end=\" \")\n",
    "    print(\" \")"
   ]
  },
  {
   "cell_type": "code",
   "execution_count": 17,
   "id": "651d0d31",
   "metadata": {},
   "outputs": [
    {
     "name": "stdout",
     "output_type": "stream",
     "text": [
      "(1, 2, 3, 4, 5, 6)\n"
     ]
    }
   ],
   "source": [
    "# Ans 5\n",
    "tupl1 = (1, 2, 3)\n",
    "tupl2 = (4, 5, 6)\n",
    "concat = tupl1 + tupl2\n",
    "print(concat)"
   ]
  },
  {
   "cell_type": "code",
   "execution_count": 19,
   "id": "d8eb16a4",
   "metadata": {},
   "outputs": [
    {
     "name": "stdout",
     "output_type": "stream",
     "text": [
      "occurrences of 4: 4\n",
      "index of first occurrence of 2: 1\n"
     ]
    }
   ],
   "source": [
    "# Ans 6\n",
    "tupl = (1, 2, 2, 3, 4, 4, 4, 4, 5)\n",
    "print(f\"occurrences of 4: {tupl.count(4)}\")\n",
    "print(f\"index of first occurrence of 2: {tupl.index(2)}\")"
   ]
  },
  {
   "cell_type": "code",
   "execution_count": 20,
   "id": "79728e80",
   "metadata": {},
   "outputs": [
    {
     "name": "stdout",
     "output_type": "stream",
     "text": [
      "1 2 3 4 5\n"
     ]
    }
   ],
   "source": [
    "# Ans 7\n",
    "set1 = (1, 2, 3, 4, 5)\n",
    "a, b, c, d, e = set1\n",
    "print(a, b, c, d, e)"
   ]
  },
  {
   "cell_type": "code",
   "execution_count": 22,
   "id": "b7efcd83",
   "metadata": {},
   "outputs": [
    {
     "name": "stdout",
     "output_type": "stream",
     "text": [
      "(1, 2, 3, 4, 5)\n"
     ]
    }
   ],
   "source": [
    "# Ans 8\n",
    "lst = [1, 2, 3, 4, 5]\n",
    "tupl = tuple(lst)\n",
    "print(tupl)"
   ]
  },
  {
   "cell_type": "code",
   "execution_count": null,
   "id": "337247c0",
   "metadata": {},
   "outputs": [
    {
     "name": "stdout",
     "output_type": "stream",
     "text": [
      "((1, 2, 3), (4, 5, 6), (7, 8, 9))\n"
     ]
    }
   ],
   "source": [
    "# Ans 9\n",
    "nest_tpls = (\n",
    "    (1, 2, 3),\n",
    "    (4, 5, 6),\n",
    "    (7, 8, 9)\n",
    ")\n",
    "print(nest_tpls)"
   ]
  },
  {
   "cell_type": "code",
   "execution_count": null,
   "id": "d147ab1a",
   "metadata": {},
   "outputs": [
    {
     "name": "stdout",
     "output_type": "stream",
     "text": [
      "(1, 2, 3, 4, 5, 6)\n"
     ]
    }
   ],
   "source": [
    "# Ans 10\n",
    "tupl = (1, 2, 3, 4, 5)\n",
    "lst = list(tupl)\n",
    "lst.append(6)\n",
    "tupl = tuple(lst)\n",
    "print(tupl)"
   ]
  },
  {
   "cell_type": "code",
   "execution_count": 27,
   "id": "9e208af8",
   "metadata": {},
   "outputs": [
    {
     "name": "stdout",
     "output_type": "stream",
     "text": [
      "abhishek\n"
     ]
    }
   ],
   "source": [
    "# Ans 11\n",
    "str = \"abhishek\"\n",
    "tupl = tuple(str)\n",
    "joined_string = ''.join(tupl)\n",
    "print(joined_string)"
   ]
  },
  {
   "cell_type": "code",
   "execution_count": null,
   "id": "bdc77427",
   "metadata": {},
   "outputs": [
    {
     "name": "stdout",
     "output_type": "stream",
     "text": [
      "{(1, 2, 3): 4, (5, 6, 7): 8, (9, 10, 11): 12}\n"
     ]
    }
   ],
   "source": [
    "# Ans 12\n",
    "tupl_dict = {\n",
    "    (1, 2, 3): 4,\n",
    "    (5, 6, 7): 8,\n",
    "    (9, 10, 11): 12\n",
    "}\n",
    "print(tupl_dict)"
   ]
  },
  {
   "cell_type": "code",
   "execution_count": 31,
   "id": "8e897e94",
   "metadata": {},
   "outputs": [
    {
     "name": "stdout",
     "output_type": "stream",
     "text": [
      "1\n",
      "2\n",
      "3\n",
      "4\n",
      "5\n",
      "6\n",
      "7\n",
      "8\n",
      "9\n"
     ]
    }
   ],
   "source": [
    "# Ans 13\n",
    "nest_tpl = (\n",
    "    (1, 2, 3),\n",
    "    (4, 5, 6),\n",
    "    (7, 8, 9)\n",
    ")\n",
    "for i in nest_tpl:\n",
    "    for j in i:\n",
    "        print(j)"
   ]
  },
  {
   "cell_type": "code",
   "execution_count": 32,
   "id": "f899ba71",
   "metadata": {},
   "outputs": [
    {
     "name": "stdout",
     "output_type": "stream",
     "text": [
      "{1, 2, 3, 4, 5}\n"
     ]
    }
   ],
   "source": [
    "# Ans 14\n",
    "tpl = (1, 2, 2, 3, 4, 4, 4, 5)\n",
    "set1= set(tpl)\n",
    "print(set1)\n"
   ]
  },
  {
   "cell_type": "code",
   "execution_count": 33,
   "id": "c27e4635",
   "metadata": {},
   "outputs": [
    {
     "name": "stdout",
     "output_type": "stream",
     "text": [
      "Minimum: 1\n",
      "Maximum: 5\n",
      "Sum: 15\n"
     ]
    }
   ],
   "source": [
    "# Ans 15\n",
    "def min_tuple(tpl):\n",
    "    return min(tpl)\n",
    "\n",
    "def max_tuple(tpl):\n",
    "    return max(tpl)\n",
    "\n",
    "def sum_tuple(tpl):\n",
    "    return sum(tpl)\n",
    "\n",
    "tupl = (1, 2, 3, 4, 5)\n",
    "print(f\"Minimum: {min_tuple(tupl)}\")\n",
    "print(f\"Maximum: {max_tuple(tupl)}\")\n",
    "print(f\"Sum: {sum_tuple(tupl)}\")"
   ]
  },
  {
   "cell_type": "code",
   "execution_count": null,
   "id": "d35bfd6b",
   "metadata": {},
   "outputs": [],
   "source": []
  }
 ],
 "metadata": {
  "kernelspec": {
   "display_name": "base",
   "language": "python",
   "name": "python3"
  },
  "language_info": {
   "codemirror_mode": {
    "name": "ipython",
    "version": 3
   },
   "file_extension": ".py",
   "mimetype": "text/x-python",
   "name": "python",
   "nbconvert_exporter": "python",
   "pygments_lexer": "ipython3",
   "version": "3.12.7"
  }
 },
 "nbformat": 4,
 "nbformat_minor": 5
}
