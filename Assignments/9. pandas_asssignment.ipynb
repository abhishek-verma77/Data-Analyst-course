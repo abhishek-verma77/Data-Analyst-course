{
 "cells": [
  {
   "cell_type": "markdown",
   "metadata": {},
   "source": [
    "# Module: Pandas Assignments\n",
    "## Lesson: Pandas\n",
    "### Assignment 1: DataFrame Creation and Indexing\n",
    "\n",
    "1. Create a Pandas DataFrame with 4 columns and 6 rows filled with random integers. Set the index to be the first column.\n",
    "2. Create a Pandas DataFrame with columns 'A', 'B', 'C' and index 'X', 'Y', 'Z'. Fill the DataFrame with random integers and access the element at row 'Y' and column 'B'.\n",
    "\n",
    "### Assignment 2: DataFrame Operations\n",
    "\n",
    "1. Create a Pandas DataFrame with 3 columns and 5 rows filled with random integers. Add a new column that is the product of the first two columns.\n",
    "2. Create a Pandas DataFrame with 3 columns and 4 rows filled with random integers. Compute the row-wise and column-wise sum.\n",
    "\n",
    "### Assignment 3: Data Cleaning\n",
    "\n",
    "1. Create a Pandas DataFrame with 3 columns and 5 rows filled with random integers. Introduce some NaN values. Fill the NaN values with the mean of the respective columns.\n",
    "2. Create a Pandas DataFrame with 4 columns and 6 rows filled with random integers. Introduce some NaN values. Drop the rows with any NaN values.\n",
    "\n",
    "### Assignment 4: Data Aggregation\n",
    "\n",
    "1. Create a Pandas DataFrame with 2 columns: 'Category' and 'Value'. Fill the 'Category' column with random categories ('A', 'B', 'C') and the 'Value' column with random integers. Group the DataFrame by 'Category' and compute the sum and mean of 'Value' for each category.\n",
    "2. Create a Pandas DataFrame with 3 columns: 'Product', 'Category', and 'Sales'. Fill the DataFrame with random data. Group the DataFrame by 'Category' and compute the total sales for each category.\n",
    "\n",
    "### Assignment 5: Merging DataFrames\n",
    "\n",
    "1. Create two Pandas DataFrames with a common column. Merge the DataFrames using the common column.\n",
    "2. Create two Pandas DataFrames with different columns. Concatenate the DataFrames along the rows and along the columns.\n",
    "\n",
    "### Assignment 6: Time Series Analysis\n",
    "\n",
    "1. Create a Pandas DataFrame with a datetime index and one column filled with random integers. Resample the DataFrame to compute the monthly mean of the values.\n",
    "2. Create a Pandas DataFrame with a datetime index ranging from '2021-01-01' to '2021-12-31' and one column filled with random integers. Compute the rolling mean with a window of 7 days.\n",
    "\n",
    "### Assignment 7: MultiIndex DataFrame\n",
    "\n",
    "1. Create a Pandas DataFrame with a MultiIndex (hierarchical index). Perform some basic indexing and slicing operations on the MultiIndex DataFrame.\n",
    "2. Create a Pandas DataFrame with MultiIndex consisting of 'Category' and 'SubCategory'. Fill the DataFrame with random data and compute the sum of values for each 'Category' and 'SubCategory'.\n",
    "\n",
    "### Assignment 8: Pivot Tables\n",
    "\n",
    "1. Create a Pandas DataFrame with columns 'Date', 'Category', and 'Value'. Create a pivot table to compute the sum of 'Value' for each 'Category' by 'Date'.\n",
    "2. Create a Pandas DataFrame with columns 'Year', 'Quarter', and 'Revenue'. Create a pivot table to compute the mean 'Revenue' for each 'Quarter' by 'Year'.\n",
    "\n",
    "### Assignment 9: Applying Functions\n",
    "\n",
    "1. Create a Pandas DataFrame with 3 columns and 5 rows filled with random integers. Apply a function that doubles the values of the DataFrame.\n",
    "2. Create a Pandas DataFrame with 3 columns and 6 rows filled with random integers. Apply a lambda function to create a new column that is the sum of the existing columns.\n",
    "\n",
    "### Assignment 10: Working with Text Data\n",
    "\n",
    "1. Create a Pandas Series with 5 random text strings. Convert all the strings to uppercase.\n",
    "2. Create a Pandas Series with 5 random text strings. Extract the first three characters of each string.\n"
   ]
  },
  {
   "cell_type": "code",
   "execution_count": 1,
   "metadata": {},
   "outputs": [
    {
     "name": "stdout",
     "output_type": "stream",
     "text": [
      "original DataFrame:\n",
      "    A   B   C   D\n",
      "0   3  67  77  21\n",
      "1  53  95  65  78\n",
      "2  56  30  21  34\n",
      "3  63  91  42   3\n",
      "4   5  60  74  86\n",
      "5  15  30  82  61\n",
      "dataframe with index at first column:\n",
      "     B   C   D\n",
      "A             \n",
      "3   67  77  21\n",
      "53  95  65  78\n",
      "56  30  21  34\n",
      "63  91  42   3\n",
      "5   60  74  86\n",
      "15  30  82  61\n"
     ]
    }
   ],
   "source": [
    "# Ans 1.1\n",
    "import pandas as pd\n",
    "import numpy as np\n",
    "import random\n",
    "df1 = pd.DataFrame(np.random.randint(100,size=(6,4)), columns = list('ABCD'))\n",
    "print(f\"original DataFrame:\\n{df1}\")\n",
    "df1.set_index('A', inplace = True)\n",
    "print(f\"dataframe with index at first column:\\n{df1}\")"
   ]
  },
  {
   "cell_type": "code",
   "execution_count": 9,
   "id": "83376fee",
   "metadata": {},
   "outputs": [
    {
     "name": "stdout",
     "output_type": "stream",
     "text": [
      "dataframe with modified index:\n",
      "    A   B   C\n",
      "X  44   5  65\n",
      "Y  48  10  42\n",
      "Z  85  23  51\n",
      "elemnet at row index 'Y' and column index 'B': 10\n"
     ]
    }
   ],
   "source": [
    "# Ans 1.2\n",
    "df2 = pd.DataFrame(np.random.randint(100,size = (3,3)),columns = list('ABC'), index = ('X','Y','Z'))\n",
    "print(f\"dataframe with modified index:\\n{df2}\")\n",
    "print(\"elemnet at row index 'Y' and column index 'B':\", df2.loc['Y', 'B'])"
   ]
  },
  {
   "cell_type": "code",
   "execution_count": null,
   "id": "92ab8403",
   "metadata": {},
   "outputs": [
    {
     "name": "stdout",
     "output_type": "stream",
     "text": [
      "original dataframe:\n",
      "    0   1   2\n",
      "0  44  86   4\n",
      "1  80   5  27\n",
      "2  37  51  59\n",
      "3  20  10  34\n",
      "4  23  17  41\n",
      "new dataframe:\n",
      "    0   1   2     3\n",
      "0  44  86   4  3784\n",
      "1  80   5  27   400\n",
      "2  37  51  59  1887\n",
      "3  20  10  34   200\n",
      "4  23  17  41   391\n"
     ]
    }
   ],
   "source": [
    "# Ans 2.1\n",
    "df3 = pd.DataFrame(np.random.randint(100, size=(5,3)))\n",
    "print(f\"original dataframe:\\n{df3}\")\n",
    "df3[3] = df3[0] * df3[1]\n",
    "print(f\"new dataframe:\\n{df3}\")"
   ]
  },
  {
   "cell_type": "code",
   "execution_count": 23,
   "id": "b21e3219",
   "metadata": {},
   "outputs": [
    {
     "name": "stdout",
     "output_type": "stream",
     "text": [
      "original dataframe:\n",
      "[[13 17 88]\n",
      " [11 45 69]\n",
      " [40 74  8]\n",
      " [25 76 76]]\n",
      "\n",
      "row wise sum:[ 89 212 241]\n",
      "\n",
      "columan wise sum:[118 125 122 177]\n"
     ]
    }
   ],
   "source": [
    "# Ans 2.2\n",
    "df4 = np.random.randint(100,size = (4,3))\n",
    "print(f\"original dataframe:\\n{df4}\\n\")\n",
    "print(f\"row wise sum:{df4.sum(axis = 0)}\\n\")\n",
    "print(f\"columan wise sum:{df4.sum(axis=1)}\")"
   ]
  },
  {
   "cell_type": "code",
   "execution_count": 39,
   "id": "0b5c6fc9",
   "metadata": {},
   "outputs": [
    {
     "name": "stdout",
     "output_type": "stream",
     "text": [
      "original dataframe:\n",
      "    A   B   C   D\n",
      "0  81  48  38  56\n",
      "1  94  88  28   2\n",
      "2  71  53  99  47\n",
      "3  99   1  27   8\n",
      "4   3  35  91  34\n",
      "5  93  45  70  34\n",
      "dataframe with NaN values:\n",
      "    A     B     C     D\n",
      "0  81   NaN  38.0  56.0\n",
      "1  94  88.0   NaN   2.0\n",
      "2  71  53.0  99.0  47.0\n",
      "3  99   1.0  27.0   8.0\n",
      "4   3  35.0  91.0   NaN\n",
      "5  93  45.0  70.0  34.0\n",
      "dataframe with NaN values replaced by mean of their respective columns:\n",
      "    A     B     C     D\n",
      "0  81  44.4  38.0  56.0\n",
      "1  94  88.0  65.0   2.0\n",
      "2  71  53.0  99.0  47.0\n",
      "3  99   1.0  27.0   8.0\n",
      "4   3  35.0  91.0  29.4\n",
      "5  93  45.0  70.0  34.0\n"
     ]
    }
   ],
   "source": [
    "# Ansd 3.1\n",
    "df5 = pd.DataFrame(np.random.randint(100,size = (6,4)), columns = list('ABCD'))\n",
    "print(f\"original dataframe:\\n{df5}\")\n",
    "df5.iloc[0,1] = np.nan\n",
    "df5.iloc[1,2] = np.nan\n",
    "df5.iloc[4,3] = np.nan\n",
    "print(f\"dataframe with NaN values:\\n{df5}\")\n",
    "df5.fillna(df5.mean(),inplace=True)\n",
    "print(f\"dataframe with NaN values replaced by mean of their respective columns:\\n{df5}\")"
   ]
  },
  {
   "cell_type": "code",
   "execution_count": 41,
   "id": "d04d596e",
   "metadata": {},
   "outputs": [
    {
     "name": "stdout",
     "output_type": "stream",
     "text": [
      "original dataframe:\n",
      "    A     B     C     D\n",
      "0  81  44.4  38.0  56.0\n",
      "1  94  88.0  65.0   2.0\n",
      "2  71  53.0  99.0  47.0\n",
      "3  99   1.0  27.0   8.0\n",
      "4   3  35.0  91.0  29.4\n",
      "5  93  45.0  70.0  34.0\n",
      "dataframe with NaN values:\n",
      "    A     B     C     D\n",
      "0   5   NaN  46.0  31.0\n",
      "1   2  95.0   NaN  96.0\n",
      "2  86  77.0  41.0   8.0\n",
      "3  65  57.0  58.0  15.0\n",
      "4  45  49.0  81.0   NaN\n",
      "5  63  34.0  40.0  23.0\n",
      "datframe with dropped rows which contain NaN values:\n",
      "    A     B     C     D\n",
      "2  86  77.0  41.0   8.0\n",
      "3  65  57.0  58.0  15.0\n",
      "5  63  34.0  40.0  23.0\n"
     ]
    }
   ],
   "source": [
    "# Ans 3.2\n",
    "df6 = pd.DataFrame(np.random.randint(100,size = (6,4)), columns = list('ABCD'))\n",
    "print(f\"original dataframe:\\n{df5}\")\n",
    "df6.iloc[0,1] = np.nan\n",
    "df6.iloc[1,2] = np.nan\n",
    "df6.iloc[4,3] = np.nan\n",
    "print(f\"dataframe with NaN values:\\n{df6}\")\n",
    "print(f\"datframe with dropped rows which contain NaN values:\\n{df6.dropna()}\")"
   ]
  },
  {
   "cell_type": "code",
   "execution_count": 48,
   "id": "bddcd436",
   "metadata": {},
   "outputs": [
    {
     "name": "stdout",
     "output_type": "stream",
     "text": [
      "original dataframe:\n",
      "  Category  Value\n",
      "0        B      9\n",
      "1        A     70\n",
      "2        B     20\n",
      "3        A     87\n",
      "4        B     58\n",
      "5        A     10\n",
      "6        B     83\n",
      "7        A     46\n",
      "8        C     16\n",
      "9        A     31\n",
      "         Value      \n",
      "           sum  mean\n",
      "Category            \n",
      "A          244  48.8\n",
      "B          170  42.5\n",
      "C           16  16.0\n"
     ]
    }
   ],
   "source": [
    "# Ans 4.1\n",
    "df7 = pd.DataFrame({ 'Category' : np.random.choice(['A','B','C'],size=10), 'Value' : [np.random.randint(100) for _ in range(10)]})\n",
    "print(f\"original dataframe:\\n{df7}\")\n",
    "print(df7.groupby('Category').agg(['sum','mean']))"
   ]
  },
  {
   "cell_type": "code",
   "execution_count": 56,
   "id": "763a0354",
   "metadata": {},
   "outputs": [
    {
     "name": "stdout",
     "output_type": "stream",
     "text": [
      "original dataframe:\n",
      "  Category  Value  Sales\n",
      "0        C     75    951\n",
      "1        B     18    101\n",
      "2        A     34    252\n",
      "3        B     60    347\n",
      "4        A     87    775\n",
      "5        A     31    101\n",
      "6        C     22    103\n",
      "7        A     28    388\n",
      "8        C     23    485\n",
      "9        A     15    265\n",
      "\n",
      "total sales by each category:\n"
     ]
    },
    {
     "data": {
      "text/plain": [
       "Category\n",
       "A    1781\n",
       "B     448\n",
       "C    1539\n",
       "Name: Sales, dtype: int32"
      ]
     },
     "execution_count": 56,
     "metadata": {},
     "output_type": "execute_result"
    }
   ],
   "source": [
    "# Ans 4.2\n",
    "df8 = pd.DataFrame({'Category' : np.random.choice(['A','B','C'], size=10), 'Value' : np.random.randint(100,size=10), 'Sales' : np.random.randint(1000, size=10)})\n",
    "print(f\"original dataframe:\\n{df8}\")\n",
    "print(\"\\ntotal sales by each category:\")\n",
    "df8.groupby('Category')['Sales'].sum()"
   ]
  },
  {
   "cell_type": "code",
   "execution_count": 59,
   "id": "6af2efb3",
   "metadata": {},
   "outputs": [
    {
     "name": "stdout",
     "output_type": "stream",
     "text": [
      "original dataframe number 1:\n",
      "       Name  Phone  id_no\n",
      "0  abhishek  45515      1\n",
      "1     harsh  55451      2\n",
      "2   atharva  98753      3\n",
      "3   pratham  32154      4\n",
      "4    sachin  48748      5\n",
      "original dataframe number 2:\n",
      "       Name  mail  salary\n",
      "0  abhishek  abcd   10000\n",
      "1     harsh  efgh   20000\n",
      "2   atharva  ijkl   30000\n",
      "3   pratham  mnop   40000\n",
      "4    sachin  qrst   50000\n",
      "merged dataframe:\n",
      "       Name  Phone  id_no  mail  salary\n",
      "0  abhishek  45515      1  abcd   10000\n",
      "1     harsh  55451      2  efgh   20000\n",
      "2   atharva  98753      3  ijkl   30000\n",
      "3   pratham  32154      4  mnop   40000\n",
      "4    sachin  48748      5  qrst   50000\n"
     ]
    }
   ],
   "source": [
    "# Ans 5.1\n",
    "df9 = pd.DataFrame({'Name' : ['abhishek','harsh','atharva','pratham','sachin'], 'Phone' : [45515,55451,98753,32154,48748], 'id_no' : [1,2,3,4,5]})\n",
    "print(f\"original dataframe number 1:\\n{df9}\")\n",
    "df10 = pd.DataFrame({'Name' : ['abhishek','harsh','atharva','pratham','sachin'], 'mail' : ['abcd','efgh','ijkl','mnop','qrst'], 'salary':[10000,20000,30000,40000,50000]})\n",
    "print(f\"original dataframe number 2:\\n{df10}\")\n",
    "df11 = pd.merge(df9,df10, on = 'Name', how = 'inner')\n",
    "print(f\"merged dataframe:\\n{df11}\")"
   ]
  },
  {
   "cell_type": "code",
   "execution_count": 63,
   "id": "c7c64e5c",
   "metadata": {},
   "outputs": [
    {
     "name": "stdout",
     "output_type": "stream",
     "text": [
      "original dataframe number 1:\n",
      "       Name  Phone  id_no\n",
      "0  abhishek  45515      1\n",
      "1     harsh  55451      2\n",
      "2   atharva  98753      3\n",
      "3   pratham  32154      4\n",
      "4    sachin  48748      5\n",
      "original dataframe number 2:\n",
      "   mail  salary\n",
      "0  abcd   10000\n",
      "1  efgh   20000\n",
      "2  ijkl   30000\n",
      "3  mnop   40000\n",
      "4  qrst   50000\n",
      "concatenated dataframe:\n",
      "       Name  Phone  id_no  mail  salary\n",
      "0  abhishek  45515      1  abcd   10000\n",
      "1     harsh  55451      2  efgh   20000\n",
      "2   atharva  98753      3  ijkl   30000\n",
      "3   pratham  32154      4  mnop   40000\n",
      "4    sachin  48748      5  qrst   50000\n"
     ]
    }
   ],
   "source": [
    "# Ans 5.2\n",
    "df12 = pd.DataFrame({'Name' : ['abhishek','harsh','atharva','pratham','sachin'], 'Phone' : [45515,55451,98753,32154,48748], 'id_no' : [1,2,3,4,5]})\n",
    "print(f\"original dataframe number 1:\\n{df12}\")\n",
    "df13 = pd.DataFrame({'mail' : ['abcd','efgh','ijkl','mnop','qrst'], 'salary':[10000,20000,30000,40000,50000]})\n",
    "print(f\"original dataframe number 2:\\n{df13}\")\n",
    "df14 = pd.concat([df12, df13],axis=1)\n",
    "print(f\"concatenated dataframe:\\n{df14}\")"
   ]
  },
  {
   "cell_type": "code",
   "execution_count": 84,
   "id": "4a5b4af2",
   "metadata": {},
   "outputs": [
    {
     "name": "stdout",
     "output_type": "stream",
     "text": [
      "Original DataFrame:\n",
      "            data\n",
      "date            \n",
      "2022-01-01    37\n",
      "2022-01-02    89\n",
      "2022-01-03    95\n",
      "2022-01-04    34\n",
      "2022-01-05    67\n",
      "...          ...\n",
      "2022-12-27    65\n",
      "2022-12-28    26\n",
      "2022-12-29    80\n",
      "2022-12-30    37\n",
      "2022-12-31    42\n",
      "\n",
      "[365 rows x 1 columns]\n",
      "Monthly mean DataFrame:\n",
      "                 data\n",
      "date                 \n",
      "2022-01-31  47.322581\n",
      "2022-02-28  55.142857\n",
      "2022-03-31  44.387097\n",
      "2022-04-30  51.833333\n",
      "2022-05-31  45.032258\n",
      "2022-06-30  52.433333\n",
      "2022-07-31  55.806452\n",
      "2022-08-31  50.612903\n",
      "2022-09-30  52.266667\n",
      "2022-10-31  49.709677\n",
      "2022-11-30  54.466667\n",
      "2022-12-31  49.419355\n"
     ]
    }
   ],
   "source": [
    "# Ans 6.1\n",
    "date_rng = pd.date_range(start='2022-01-01', end='2022-12-31', freq='D')\n",
    "df15 = pd.DataFrame({'date' : date_rng, 'data':  np.random.randint(0, 100, size=(len(date_rng)))})\n",
    "df15.set_index('date', inplace=True)\n",
    "print(f\"Original DataFrame:\\n{df}\")\n",
    "monthly_mean = df.resample('ME').mean()\n",
    "print(f\"Monthly mean DataFrame:\\n{monthly_mean}\")"
   ]
  },
  {
   "cell_type": "code",
   "execution_count": null,
   "id": "62f38faf",
   "metadata": {},
   "outputs": [
    {
     "name": "stdout",
     "output_type": "stream",
     "text": [
      "original datframe:\n",
      "            data\n",
      "date            \n",
      "2021-01-01     6\n",
      "2021-01-02     9\n",
      "2021-01-03    76\n",
      "2021-01-04    54\n",
      "2021-01-05    51\n",
      "...          ...\n",
      "2021-12-27    34\n",
      "2021-12-28    70\n",
      "2021-12-29    22\n",
      "2021-12-30    39\n",
      "2021-12-31    76\n",
      "\n",
      "[365 rows x 1 columns]\n",
      "dataframe with rolling mean of window = 7:\n",
      "                 data\n",
      "date                 \n",
      "2021-01-01        NaN\n",
      "2021-01-02        NaN\n",
      "2021-01-03        NaN\n",
      "2021-01-04        NaN\n",
      "2021-01-05        NaN\n",
      "...               ...\n",
      "2021-12-27  59.000000\n",
      "2021-12-28  62.142857\n",
      "2021-12-29  55.714286\n",
      "2021-12-30  49.285714\n",
      "2021-12-31  49.285714\n",
      "\n",
      "[365 rows x 1 columns]\n"
     ]
    }
   ],
   "source": [
    "# Ans 6.2\n",
    "date_rng = pd.date_range(start='2021-01-01', end='2021-12-31', freq='D')\n",
    "df16 = pd.DataFrame({'date' : date_rng, 'data' : np.random.randint(100,size=(len(date_rng)))})\n",
    "df16.set_index('date', inplace=True)\n",
    "print(f\"original datframe:\\n{df16}\")\n",
    "df17 = df16.rolling(window=7).mean()\n",
    "print(f\"dataframe with rolling mean of window = 7:\\n{df17}\")"
   ]
  },
  {
   "cell_type": "code",
   "execution_count": 91,
   "id": "10bc1d52",
   "metadata": {},
   "outputs": [
    {
     "name": "stdout",
     "output_type": "stream",
     "text": [
      "MultiIndex DataFrame:\n",
      "                      Value1  Value2  Value3\n",
      "Category SubCategory                        \n",
      "A        one              96      63      33\n",
      "         two              53      40      68\n",
      "B        one              93      76      38\n",
      "         two               7      84      67\n",
      "Indexing at Category 'A':\n",
      "             Value1  Value2  Value3\n",
      "SubCategory                        \n",
      "one              96      63      33\n",
      "two              53      40      68\n",
      "Slicing at Category 'B' and SubCategory 'two':\n",
      "Value1     7\n",
      "Value2    84\n",
      "Value3    67\n",
      "Name: (B, two), dtype: int32\n"
     ]
    }
   ],
   "source": [
    "# Ans 7.1\n",
    "arrays = [['A', 'A', 'B', 'B'], ['one', 'two', 'one', 'two']]\n",
    "index = pd.MultiIndex.from_arrays(arrays, names=('Category', 'SubCategory'))\n",
    "df18 = pd.DataFrame(np.random.randint(1, 100, size=(4, 3)), index=index, columns=['Value1', 'Value2', 'Value3'])\n",
    "print(f\"MultiIndex DataFrame:\\n{df18}\")\n",
    "print(f\"Indexing at Category 'A':\\n{df18.loc['A']}\")\n",
    "print(f\"Slicing at Category 'B' and SubCategory 'two':\\n{df18.loc[('B', 'two')]}\")"
   ]
  },
  {
   "cell_type": "code",
   "execution_count": 92,
   "id": "a0f900e0",
   "metadata": {},
   "outputs": [
    {
     "name": "stdout",
     "output_type": "stream",
     "text": [
      "MultiIndex DataFrame:\n",
      "                      Value1  Value2  Value3\n",
      "Category SubCategory                        \n",
      "A        one              42      28      79\n",
      "         two              17      72      71\n",
      "B        one              15      11      38\n",
      "         two              78      90      33\n",
      "C        one              65      58      57\n",
      "         two              73       4      35\n",
      "Sum of values:\n",
      "                      Value1  Value2  Value3\n",
      "Category SubCategory                        \n",
      "A        one              42      28      79\n",
      "         two              17      72      71\n",
      "B        one              15      11      38\n",
      "         two              78      90      33\n",
      "C        one              65      58      57\n",
      "         two              73       4      35\n"
     ]
    }
   ],
   "source": [
    "# Ans 7.2\n",
    "arrays = [['A', 'A', 'B', 'B', 'C', 'C'], ['one', 'two', 'one', 'two', 'one', 'two']]\n",
    "index = pd.MultiIndex.from_arrays(arrays, names=('Category', 'SubCategory'))\n",
    "df19 = pd.DataFrame(np.random.randint(1, 100, size=(6, 3)), index=index, columns=['Value1', 'Value2', 'Value3'])\n",
    "print(f\"MultiIndex DataFrame:\\n{df19}\")\n",
    "\n",
    "# Compute the sum of values for each 'Category' and 'SubCategory'\n",
    "sum_values = df19.groupby(['Category', 'SubCategory']).sum()\n",
    "print(f\"Sum of values:\\n{sum_values}\")"
   ]
  },
  {
   "cell_type": "code",
   "execution_count": 93,
   "id": "e7fac6a6",
   "metadata": {},
   "outputs": [
    {
     "name": "stdout",
     "output_type": "stream",
     "text": [
      "Original DataFrame:\n",
      "         Date Category  Value\n",
      "0  2022-01-09        C     16\n",
      "1  2022-01-09        B     37\n",
      "2  2022-01-09        B     74\n",
      "3  2022-01-08        B     13\n",
      "4  2022-01-01        C     96\n",
      "5  2022-01-03        C     20\n",
      "6  2022-01-04        B     20\n",
      "7  2022-01-09        A     68\n",
      "8  2022-01-01        B      6\n",
      "9  2022-01-09        B     26\n",
      "10 2022-01-07        A     43\n",
      "11 2022-01-03        A     91\n",
      "12 2022-01-03        B     13\n",
      "13 2022-01-02        C      1\n",
      "14 2022-01-01        C     76\n",
      "15 2022-01-01        C     47\n",
      "16 2022-01-07        B     36\n",
      "17 2022-01-07        C     90\n",
      "18 2022-01-10        A     98\n",
      "19 2022-01-07        A      7\n",
      "Pivot Table:\n",
      "Category       A      B      C\n",
      "Date                          \n",
      "2022-01-01   NaN    6.0  219.0\n",
      "2022-01-02   NaN    NaN    1.0\n",
      "2022-01-03  91.0   13.0   20.0\n",
      "2022-01-04   NaN   20.0    NaN\n",
      "2022-01-07  50.0   36.0   90.0\n",
      "2022-01-08   NaN   13.0    NaN\n",
      "2022-01-09  68.0  137.0   16.0\n",
      "2022-01-10  98.0    NaN    NaN\n"
     ]
    }
   ],
   "source": [
    "# Ans 8.1\n",
    "date_rng = pd.date_range(start='2022-01-01', end='2022-01-10', freq='D')\n",
    "df20 = pd.DataFrame({'Date': np.random.choice(date_rng, size=20), 'Category': np.random.choice(['A', 'B', 'C'], size=20), 'Value': np.random.randint(1, 100, size=20)})\n",
    "print(f\"Original DataFrame:\\n{df20}\")\n",
    "pivot_table = df20.pivot_table(values='Value', index='Date', columns='Category', aggfunc='sum')\n",
    "print(f\"Pivot Table:\\n{pivot_table}\")"
   ]
  },
  {
   "cell_type": "code",
   "execution_count": 94,
   "id": "952ff9cd",
   "metadata": {},
   "outputs": [
    {
     "name": "stdout",
     "output_type": "stream",
     "text": [
      "Original DataFrame:\n",
      "    Year Quarter  Revenue\n",
      "0   2023      Q4      817\n",
      "1   2023      Q1      141\n",
      "2   2024      Q2      718\n",
      "3   2024      Q4      714\n",
      "4   2024      Q4      453\n",
      "5   2023      Q3      539\n",
      "6   2024      Q1        6\n",
      "7   2024      Q4      766\n",
      "8   2023      Q2      606\n",
      "9   2024      Q4      912\n",
      "10  2025      Q4       93\n",
      "11  2023      Q2      665\n",
      "Pivot Table:\n",
      "    Year Quarter  Revenue\n",
      "0   2023      Q4      817\n",
      "1   2023      Q1      141\n",
      "2   2024      Q2      718\n",
      "3   2024      Q4      714\n",
      "4   2024      Q4      453\n",
      "5   2023      Q3      539\n",
      "6   2024      Q1        6\n",
      "7   2024      Q4      766\n",
      "8   2023      Q2      606\n",
      "9   2024      Q4      912\n",
      "10  2025      Q4       93\n",
      "11  2023      Q2      665\n"
     ]
    }
   ],
   "source": [
    "# Ans 8.2\n",
    "df21 = pd.DataFrame({'Year': np.random.choice([2023, 2024, 2025], size=12), 'Quarter': np.random.choice(['Q1', 'Q2', 'Q3', 'Q4'], size=12), 'Revenue': np.random.randint(1, 1000, size=12)})\n",
    "print(f\"Original DataFrame:\\n{df21}\")\n",
    "pivot_table = df21.pivot_table(values='Revenue', index='Year', columns='Quarter', aggfunc='mean')\n",
    "print(f\"Pivot Table:\\n{df21}\")"
   ]
  },
  {
   "cell_type": "code",
   "execution_count": 97,
   "id": "8fb0aeac",
   "metadata": {},
   "outputs": [
    {
     "name": "stdout",
     "output_type": "stream",
     "text": [
      "Original DataFrame:\n",
      "{df22}\n",
      "Doubled DataFrame:\n",
      "     A    B   C\n",
      "0  174  142   8\n",
      "1  188  172  84\n",
      "2  188    8  38\n",
      "3   48   24  22\n",
      "4   86   32  88\n"
     ]
    }
   ],
   "source": [
    "# Ans 9.1\n",
    "df22 = pd.DataFrame(np.random.randint(1, 100, size=(5, 3)), columns=['A', 'B', 'C'])\n",
    "print(\"Original DataFrame:\\n{df22}\")\n",
    "df_doubled = df22.map(lambda x: x * 2)\n",
    "print(f\"Doubled DataFrame:\\n{df_doubled}\")"
   ]
  },
  {
   "cell_type": "code",
   "execution_count": null,
   "id": "1fafc11f",
   "metadata": {},
   "outputs": [
    {
     "name": "stdout",
     "output_type": "stream",
     "text": [
      "Original DataFrame:\n",
      "    A   B   C\n",
      "0  39  16  36\n",
      "1  70  26  20\n",
      "2  13  86   6\n",
      "3  21  72  34\n",
      "4  69  92  18\n",
      "5  69  43   8\n",
      "DataFrame with Sum column:\n",
      "    A   B   C  Sum\n",
      "0  39  16  36  NaN\n",
      "1  70  26  20  NaN\n",
      "2  13  86   6  NaN\n",
      "3  21  72  34  NaN\n",
      "4  69  92  18  NaN\n",
      "5  69  43   8  NaN\n"
     ]
    }
   ],
   "source": [
    "# Ans 9.2\n",
    "df23 = pd.DataFrame(np.random.randint(1, 100, size=(6, 3)), columns=['A', 'B', 'C'])\n",
    "print(f\"Original DataFrame:\\n{df23}\")\n",
    "df23['Sum'] = df.apply(lambda row: row.sum(), axis=1)\n",
    "print(f\"DataFrame with Sum column:\\n{df23}\")"
   ]
  },
  {
   "cell_type": "code",
   "execution_count": 101,
   "id": "bca54221",
   "metadata": {},
   "outputs": [
    {
     "name": "stdout",
     "output_type": "stream",
     "text": [
      "Original Series:\n",
      "0     apple\n",
      "1    banana\n",
      "2     mango\n",
      "3     guava\n",
      "4     jamun\n",
      "dtype: object\n",
      "Uppercase Series:\n",
      "0     APPLE\n",
      "1    BANANA\n",
      "2     MANGO\n",
      "3     GUAVA\n",
      "4     JAMUN\n",
      "dtype: object\n"
     ]
    }
   ],
   "source": [
    "# Ans 10.1\n",
    "text_data = pd.Series(['apple', 'banana', 'mango', 'guava', 'jamun'])\n",
    "print(f\"Original Series:\\n{text_data}\")\n",
    "uppercase_data = text_data.str.upper()\n",
    "print(f\"Uppercase Series:\\n{uppercase_data}\")"
   ]
  },
  {
   "cell_type": "code",
   "execution_count": 102,
   "id": "331581ba",
   "metadata": {},
   "outputs": [
    {
     "name": "stdout",
     "output_type": "stream",
     "text": [
      "Original Series:\n",
      "0         apple\n",
      "1        banana\n",
      "2        cherry\n",
      "3          date\n",
      "4    elderberry\n",
      "dtype: object\n",
      "First three characters:\n",
      "0    app\n",
      "1    ban\n",
      "2    che\n",
      "3    dat\n",
      "4    eld\n",
      "dtype: object\n"
     ]
    }
   ],
   "source": [
    "# Ans 10.2\n",
    "text_data = pd.Series(['apple', 'banana', 'cherry', 'date', 'elderberry'])\n",
    "print(f\"Original Series:\\n{text_data}\")\n",
    "first_three_chars = text_data.str[:3]\n",
    "print(f\"First three characters:\\n{first_three_chars}\")"
   ]
  }
 ],
 "metadata": {
  "kernelspec": {
   "display_name": "base",
   "language": "python",
   "name": "python3"
  },
  "language_info": {
   "codemirror_mode": {
    "name": "ipython",
    "version": 3
   },
   "file_extension": ".py",
   "mimetype": "text/x-python",
   "name": "python",
   "nbconvert_exporter": "python",
   "pygments_lexer": "ipython3",
   "version": "3.12.7"
  }
 },
 "nbformat": 4,
 "nbformat_minor": 5
}
