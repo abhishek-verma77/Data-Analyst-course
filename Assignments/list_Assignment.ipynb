{
 "cells": [
  {
   "cell_type": "markdown",
   "metadata": {},
   "source": [
    "# Module 3: Data Structures Assignments\n",
    "## Lesson 3.1: Lists\n",
    "### Assignment 1: Creating and Accessing Lists\n",
    "\n",
    "Create a list of the first 20 positive integers. Print the list.\n",
    "\n",
    "### Assignment 2: Accessing List Elements\n",
    "\n",
    "Print the first, middle, and last elements of the list created in Assignment 1.\n",
    "\n",
    "### Assignment 3: List Slicing\n",
    "\n",
    "Print the first five elements, the last five elements, and the elements from index 5 to 15 of the list created in Assignment 1.\n",
    "\n",
    "### Assignment 4: List Comprehensions\n",
    "\n",
    "Create a new list containing the squares of the first 10 positive integers using a list comprehension. Print the new list.\n",
    "\n",
    "### Assignment 5: Filtering Lists\n",
    "\n",
    "Create a new list containing only the even numbers from the list created in Assignment 1 using a list comprehension. Print the new list.\n",
    "\n",
    "### Assignment 6: List Methods\n",
    "\n",
    "Create a list of random numbers and sort it in ascending and descending order. Remove the duplicates from the list and print the modified list.\n",
    "\n",
    "### Assignment 7: Nested Lists\n",
    "\n",
    "Create a nested list representing a 3x3 matrix and print the matrix. Access and print the element at the second row and third column.\n",
    "\n",
    "### Assignment 8: List of Dictionaries\n",
    "\n",
    "Create a list of dictionaries where each dictionary represents a student with keys 'name' and 'score'. Sort the list of dictionaries by the 'score' in descending order and print the sorted list.\n",
    "\n",
    "### Assignment 9: Matrix Transposition\n",
    "\n",
    "Write a function that takes a 3x3 matrix (nested list) as input and returns its transpose. Print the original and transposed matrices.\n",
    "\n",
    "### Assignment 10: Flattening a Nested List\n",
    "\n",
    "Write a function that takes a nested list and flattens it into a single list. Print the original and flattened lists.\n",
    "\n",
    "### Assignment 11: List Manipulation\n",
    "\n",
    "Create a list of the first 10 positive integers. Remove the elements at indices 2, 4, and 6, and insert the element '99' at index 5. Print the modified list.\n",
    "\n",
    "### Assignment 12: List Zipping\n",
    "\n",
    "Create two lists of the same length. Use the `zip` function to combine these lists into a list of tuples and print the result.\n",
    "\n",
    "### Assignment 13: List Reversal\n",
    "\n",
    "Write a function that takes a list and returns a new list with the elements in reverse order. Print the original and reversed lists.\n",
    "\n",
    "### Assignment 14: List Rotation\n",
    "\n",
    "Write a function that rotates a list by n positions. Print the original and rotated lists.\n",
    "\n",
    "### Assignment 15: List Intersection\n",
    "\n",
    "Write a function that takes two lists and returns a new list containing only the elements that are present in both lists. Print the intersected list."
   ]
  },
  {
   "cell_type": "code",
   "execution_count": 3,
   "metadata": {},
   "outputs": [
    {
     "name": "stdout",
     "output_type": "stream",
     "text": [
      "[1, 2, 3, 4, 5, 6, 7, 8, 9, 10, 11, 12, 13, 14, 15, 16, 17, 18, 19, 20]\n"
     ]
    }
   ],
   "source": [
    "# Ans 1\n",
    "lst=list(range(1,21))\n",
    "print(lst)"
   ]
  },
  {
   "cell_type": "code",
   "execution_count": 6,
   "id": "443c3402",
   "metadata": {},
   "outputs": [
    {
     "name": "stdout",
     "output_type": "stream",
     "text": [
      "first element is: 1\n",
      "last element is: 20\n",
      "middle element is: 11\n"
     ]
    }
   ],
   "source": [
    "# Ans 2\n",
    "print(f\"first element is: {lst[0]}\")\n",
    "print(f\"last element is: {lst[-1]}\")\n",
    "print(f\"middle element is: {lst[len(lst)//2]}\")"
   ]
  },
  {
   "cell_type": "code",
   "execution_count": 8,
   "id": "fdbb8267",
   "metadata": {},
   "outputs": [
    {
     "name": "stdout",
     "output_type": "stream",
     "text": [
      "first five elements are:[1, 2, 3, 4, 5]\n",
      "last five elements are:[16, 17, 18, 19, 20]\n",
      "elemnts from 5th to 15 index are:[6, 7, 8, 9, 10, 11, 12, 13, 14, 15, 16]\n"
     ]
    }
   ],
   "source": [
    "# Ans 3\n",
    "print(f\"first five elements are:{lst[:5]}\")\n",
    "print(f\"last five elements are:{lst[-5:]}\")\n",
    "print(f\"elemnts from 5th to 15 index are:{lst[5:16]}\")"
   ]
  },
  {
   "cell_type": "code",
   "execution_count": 10,
   "id": "7eb9743c",
   "metadata": {},
   "outputs": [
    {
     "name": "stdout",
     "output_type": "stream",
     "text": [
      "[1, 4, 9, 16, 25, 36, 49, 64, 81, 100]\n"
     ]
    }
   ],
   "source": [
    "# Ans 4\n",
    "sqr=[i**2 for i in range(1,11)]\n",
    "print(sqr)"
   ]
  },
  {
   "cell_type": "code",
   "execution_count": 13,
   "id": "fb937f36",
   "metadata": {},
   "outputs": [
    {
     "name": "stdout",
     "output_type": "stream",
     "text": [
      "even numbers are: [2, 4, 6, 8, 10, 12, 14, 16, 18, 20]\n"
     ]
    }
   ],
   "source": [
    "# Ans 5\n",
    "even=[i for i in lst if i%2==0]\n",
    "print(f\"even numbers are: {even}\")"
   ]
  },
  {
   "cell_type": "code",
   "execution_count": 15,
   "id": "585df0f9",
   "metadata": {},
   "outputs": [
    {
     "name": "stdout",
     "output_type": "stream",
     "text": [
      "[9, 98, 50, 9, 4, 44, 69, 26, 22, 13, 7, 61, 49, 93, 58]\n",
      "sorted list in descending order: [98, 93, 69, 61, 58, 50, 49, 44, 26, 22, 13, 9, 9, 7, 4]\n",
      "sorted list in ascending order: [4, 7, 9, 9, 13, 22, 26, 44, 49, 50, 58, 61, 69, 93, 98]\n"
     ]
    }
   ],
   "source": [
    "# Ans 6\n",
    "import random\n",
    "rand=[random.randint(1,100) for _ in range(15)]\n",
    "print(rand)\n",
    "sorted_list=sorted(rand,reverse=True)\n",
    "print(f\"sorted list in descending order: {sorted_list}\")\n",
    "desc_list=sorted(rand,reverse=False)\n",
    "print(f\"sorted list in ascending order: {desc_list}\")"
   ]
  },
  {
   "cell_type": "code",
   "execution_count": 29,
   "id": "ea4a654e",
   "metadata": {},
   "outputs": [
    {
     "name": "stdout",
     "output_type": "stream",
     "text": [
      "Matrix:\n",
      "[1, 2, 3]\n",
      "[4, 5, 6]\n",
      "[7, 8, 9]\n",
      "second row: [4, 5, 6]\n",
      "third column: [3, 6, 9]\n",
      "element at second row and third column is: 6\n"
     ]
    }
   ],
   "source": [
    "#Ans 7\n",
    "matrix = [\n",
    "    [1, 2, 3],\n",
    "    [4, 5, 6],\n",
    "    [7, 8, 9]\n",
    "]\n",
    "print(\"Matrix:\")\n",
    "for i in matrix:print(i)\n",
    "print(f\"second row: {matrix[1]}\")\n",
    "print(f\"third column: {[i[2] for i in matrix]}\")\n",
    "print(f\"element at second row and third column is: {matrix[1][2]}\")"
   ]
  },
  {
   "cell_type": "code",
   "execution_count": null,
   "id": "026396a4",
   "metadata": {},
   "outputs": [
    {
     "name": "stdout",
     "output_type": "stream",
     "text": [
      "student list: [{'abhishek': 10}, {'sachin': 20}, {'priyanka': 30}]\n"
     ]
    }
   ],
   "source": [
    "# Ans 8\n",
    "student=[{\"abhishek\":10},{\"sachin\":20},{\"priyanka\":30}]\n",
    "print(f\"student list: {student}\")\n",
    "print(f\"list sorted on marks: {}\")"
   ]
  },
  {
   "cell_type": "code",
   "execution_count": null,
   "id": "9a3fcaa1",
   "metadata": {},
   "outputs": [],
   "source": []
  }
 ],
 "metadata": {
  "kernelspec": {
   "display_name": "base",
   "language": "python",
   "name": "python3"
  },
  "language_info": {
   "codemirror_mode": {
    "name": "ipython",
    "version": 3
   },
   "file_extension": ".py",
   "mimetype": "text/x-python",
   "name": "python",
   "nbconvert_exporter": "python",
   "pygments_lexer": "ipython3",
   "version": "3.12.7"
  }
 },
 "nbformat": 4,
 "nbformat_minor": 5
}
